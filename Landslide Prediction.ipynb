{
 "cells": [
  {
   "cell_type": "code",
   "execution_count": 1,
   "id": "a6ec0723",
   "metadata": {},
   "outputs": [],
   "source": [
    "import pandas as pd\n",
    "import numpy as np\n",
    "import matplotlib.pyplot as plt\n",
    "import seaborn as sns\n",
    "from sklearn.metrics import accuracy_score\n",
    "from sklearn.model_selection import train_test_split\n",
    "from sklearn.metrics import classification_report,accuracy_score,confusion_matrix\n",
    "import warnings\n",
    "warnings.filterwarnings('ignore')"
   ]
  },
  {
   "cell_type": "code",
   "execution_count": 2,
   "id": "699a2f11",
   "metadata": {},
   "outputs": [],
   "source": [
    "accuracies=[]"
   ]
  },
  {
   "cell_type": "code",
   "execution_count": 3,
   "id": "21f7a447",
   "metadata": {},
   "outputs": [],
   "source": [
    "data=pd.read_csv(\"TRAIN.csv\")"
   ]
  },
  {
   "cell_type": "code",
   "execution_count": 4,
   "id": "fee3895e",
   "metadata": {},
   "outputs": [
    {
     "data": {
      "text/html": [
       "<div>\n",
       "<style scoped>\n",
       "    .dataframe tbody tr th:only-of-type {\n",
       "        vertical-align: middle;\n",
       "    }\n",
       "\n",
       "    .dataframe tbody tr th {\n",
       "        vertical-align: top;\n",
       "    }\n",
       "\n",
       "    .dataframe thead th {\n",
       "        text-align: right;\n",
       "    }\n",
       "</style>\n",
       "<table border=\"1\" class=\"dataframe\">\n",
       "  <thead>\n",
       "    <tr style=\"text-align: right;\">\n",
       "      <th></th>\n",
       "      <th>Unnamed: 0</th>\n",
       "      <th>blue</th>\n",
       "      <th>green</th>\n",
       "      <th>red</th>\n",
       "      <th>nir</th>\n",
       "      <th>slope</th>\n",
       "      <th>aspect</th>\n",
       "      <th>ndvi</th>\n",
       "      <th>ndwi</th>\n",
       "      <th>lai</th>\n",
       "      <th>...</th>\n",
       "      <th>savi</th>\n",
       "      <th>mndwi</th>\n",
       "      <th>twi</th>\n",
       "      <th>wri</th>\n",
       "      <th>awei</th>\n",
       "      <th>geomorphology</th>\n",
       "      <th>lineament</th>\n",
       "      <th>fa</th>\n",
       "      <th>fd</th>\n",
       "      <th>landslide</th>\n",
       "    </tr>\n",
       "  </thead>\n",
       "  <tbody>\n",
       "    <tr>\n",
       "      <th>0</th>\n",
       "      <td>0</td>\n",
       "      <td>0.02990</td>\n",
       "      <td>0.04280</td>\n",
       "      <td>0.04585</td>\n",
       "      <td>0.17930</td>\n",
       "      <td>23.379407</td>\n",
       "      <td>184.960739</td>\n",
       "      <td>0.592716</td>\n",
       "      <td>-0.614588</td>\n",
       "      <td>1</td>\n",
       "      <td>...</td>\n",
       "      <td>0.143080</td>\n",
       "      <td>-0.670516</td>\n",
       "      <td>-6.524590</td>\n",
       "      <td>0.259679</td>\n",
       "      <td>-1.094512</td>\n",
       "      <td>350</td>\n",
       "      <td>0</td>\n",
       "      <td>-7.952559</td>\n",
       "      <td>0</td>\n",
       "      <td>0</td>\n",
       "    </tr>\n",
       "    <tr>\n",
       "      <th>1</th>\n",
       "      <td>1</td>\n",
       "      <td>0.03185</td>\n",
       "      <td>0.04740</td>\n",
       "      <td>0.04570</td>\n",
       "      <td>0.19155</td>\n",
       "      <td>23.379407</td>\n",
       "      <td>184.960739</td>\n",
       "      <td>0.614752</td>\n",
       "      <td>-0.603264</td>\n",
       "      <td>1</td>\n",
       "      <td>...</td>\n",
       "      <td>0.153530</td>\n",
       "      <td>-0.641452</td>\n",
       "      <td>-5.307001</td>\n",
       "      <td>0.259679</td>\n",
       "      <td>-1.094512</td>\n",
       "      <td>350</td>\n",
       "      <td>0</td>\n",
       "      <td>37.924812</td>\n",
       "      <td>0</td>\n",
       "      <td>0</td>\n",
       "    </tr>\n",
       "    <tr>\n",
       "      <th>2</th>\n",
       "      <td>2</td>\n",
       "      <td>0.03235</td>\n",
       "      <td>0.04550</td>\n",
       "      <td>0.04405</td>\n",
       "      <td>0.19060</td>\n",
       "      <td>23.379407</td>\n",
       "      <td>184.960739</td>\n",
       "      <td>0.624547</td>\n",
       "      <td>-0.614570</td>\n",
       "      <td>1</td>\n",
       "      <td>...</td>\n",
       "      <td>0.154872</td>\n",
       "      <td>-0.653333</td>\n",
       "      <td>-3.809007</td>\n",
       "      <td>0.250697</td>\n",
       "      <td>-1.113475</td>\n",
       "      <td>350</td>\n",
       "      <td>0</td>\n",
       "      <td>94.391121</td>\n",
       "      <td>0</td>\n",
       "      <td>0</td>\n",
       "    </tr>\n",
       "    <tr>\n",
       "      <th>3</th>\n",
       "      <td>3</td>\n",
       "      <td>0.03245</td>\n",
       "      <td>0.04765</td>\n",
       "      <td>0.04605</td>\n",
       "      <td>0.19140</td>\n",
       "      <td>23.379407</td>\n",
       "      <td>184.960739</td>\n",
       "      <td>0.612129</td>\n",
       "      <td>-0.601339</td>\n",
       "      <td>1</td>\n",
       "      <td>...</td>\n",
       "      <td>0.152958</td>\n",
       "      <td>-0.639902</td>\n",
       "      <td>-2.799061</td>\n",
       "      <td>0.231079</td>\n",
       "      <td>-1.105437</td>\n",
       "      <td>350</td>\n",
       "      <td>0</td>\n",
       "      <td>132.191116</td>\n",
       "      <td>0</td>\n",
       "      <td>0</td>\n",
       "    </tr>\n",
       "    <tr>\n",
       "      <th>4</th>\n",
       "      <td>4</td>\n",
       "      <td>0.03490</td>\n",
       "      <td>0.04975</td>\n",
       "      <td>0.04610</td>\n",
       "      <td>0.21030</td>\n",
       "      <td>23.379407</td>\n",
       "      <td>184.960739</td>\n",
       "      <td>0.640406</td>\n",
       "      <td>-0.617381</td>\n",
       "      <td>1</td>\n",
       "      <td>...</td>\n",
       "      <td>0.168010</td>\n",
       "      <td>-0.626992</td>\n",
       "      <td>-2.506445</td>\n",
       "      <td>0.235151</td>\n",
       "      <td>-1.096725</td>\n",
       "      <td>350</td>\n",
       "      <td>0</td>\n",
       "      <td>141.213913</td>\n",
       "      <td>0</td>\n",
       "      <td>0</td>\n",
       "    </tr>\n",
       "  </tbody>\n",
       "</table>\n",
       "<p>5 rows × 23 columns</p>\n",
       "</div>"
      ],
      "text/plain": [
       "   Unnamed: 0     blue    green      red      nir      slope      aspect  \\\n",
       "0           0  0.02990  0.04280  0.04585  0.17930  23.379407  184.960739   \n",
       "1           1  0.03185  0.04740  0.04570  0.19155  23.379407  184.960739   \n",
       "2           2  0.03235  0.04550  0.04405  0.19060  23.379407  184.960739   \n",
       "3           3  0.03245  0.04765  0.04605  0.19140  23.379407  184.960739   \n",
       "4           4  0.03490  0.04975  0.04610  0.21030  23.379407  184.960739   \n",
       "\n",
       "       ndvi      ndwi  lai  ...      savi     mndwi       twi       wri  \\\n",
       "0  0.592716 -0.614588    1  ...  0.143080 -0.670516 -6.524590  0.259679   \n",
       "1  0.614752 -0.603264    1  ...  0.153530 -0.641452 -5.307001  0.259679   \n",
       "2  0.624547 -0.614570    1  ...  0.154872 -0.653333 -3.809007  0.250697   \n",
       "3  0.612129 -0.601339    1  ...  0.152958 -0.639902 -2.799061  0.231079   \n",
       "4  0.640406 -0.617381    1  ...  0.168010 -0.626992 -2.506445  0.235151   \n",
       "\n",
       "       awei  geomorphology  lineament          fa  fd  landslide  \n",
       "0 -1.094512            350          0   -7.952559   0          0  \n",
       "1 -1.094512            350          0   37.924812   0          0  \n",
       "2 -1.113475            350          0   94.391121   0          0  \n",
       "3 -1.105437            350          0  132.191116   0          0  \n",
       "4 -1.096725            350          0  141.213913   0          0  \n",
       "\n",
       "[5 rows x 23 columns]"
      ]
     },
     "execution_count": 4,
     "metadata": {},
     "output_type": "execute_result"
    }
   ],
   "source": [
    "data.head()"
   ]
  },
  {
   "cell_type": "code",
   "execution_count": 5,
   "id": "92b58d43",
   "metadata": {},
   "outputs": [
    {
     "data": {
      "text/html": [
       "<div>\n",
       "<style scoped>\n",
       "    .dataframe tbody tr th:only-of-type {\n",
       "        vertical-align: middle;\n",
       "    }\n",
       "\n",
       "    .dataframe tbody tr th {\n",
       "        vertical-align: top;\n",
       "    }\n",
       "\n",
       "    .dataframe thead th {\n",
       "        text-align: right;\n",
       "    }\n",
       "</style>\n",
       "<table border=\"1\" class=\"dataframe\">\n",
       "  <thead>\n",
       "    <tr style=\"text-align: right;\">\n",
       "      <th></th>\n",
       "      <th>Unnamed: 0</th>\n",
       "      <th>blue</th>\n",
       "      <th>green</th>\n",
       "      <th>red</th>\n",
       "      <th>nir</th>\n",
       "      <th>slope</th>\n",
       "      <th>aspect</th>\n",
       "      <th>ndvi</th>\n",
       "      <th>ndwi</th>\n",
       "      <th>lai</th>\n",
       "      <th>...</th>\n",
       "      <th>savi</th>\n",
       "      <th>mndwi</th>\n",
       "      <th>twi</th>\n",
       "      <th>wri</th>\n",
       "      <th>awei</th>\n",
       "      <th>geomorphology</th>\n",
       "      <th>lineament</th>\n",
       "      <th>fa</th>\n",
       "      <th>fd</th>\n",
       "      <th>landslide</th>\n",
       "    </tr>\n",
       "  </thead>\n",
       "  <tbody>\n",
       "    <tr>\n",
       "      <th>Unnamed: 0</th>\n",
       "      <td>1.000000</td>\n",
       "      <td>-0.128026</td>\n",
       "      <td>-0.113368</td>\n",
       "      <td>-0.097059</td>\n",
       "      <td>0.025547</td>\n",
       "      <td>2.676617e-01</td>\n",
       "      <td>7.806962e-02</td>\n",
       "      <td>0.059157</td>\n",
       "      <td>-0.062236</td>\n",
       "      <td>-0.263493</td>\n",
       "      <td>...</td>\n",
       "      <td>0.062598</td>\n",
       "      <td>-0.111668</td>\n",
       "      <td>0.141465</td>\n",
       "      <td>0.120633</td>\n",
       "      <td>0.124694</td>\n",
       "      <td>0.020236</td>\n",
       "      <td>-6.500932e-03</td>\n",
       "      <td>0.025311</td>\n",
       "      <td>0.103854</td>\n",
       "      <td>0.007093</td>\n",
       "    </tr>\n",
       "    <tr>\n",
       "      <th>blue</th>\n",
       "      <td>-0.128026</td>\n",
       "      <td>1.000000</td>\n",
       "      <td>0.968102</td>\n",
       "      <td>0.893422</td>\n",
       "      <td>0.123100</td>\n",
       "      <td>-6.792084e-02</td>\n",
       "      <td>1.147312e-01</td>\n",
       "      <td>-0.597294</td>\n",
       "      <td>0.546507</td>\n",
       "      <td>0.174597</td>\n",
       "      <td>...</td>\n",
       "      <td>-0.358997</td>\n",
       "      <td>0.947504</td>\n",
       "      <td>-0.009235</td>\n",
       "      <td>0.065829</td>\n",
       "      <td>0.094121</td>\n",
       "      <td>0.118756</td>\n",
       "      <td>-3.604602e-03</td>\n",
       "      <td>0.012359</td>\n",
       "      <td>-0.016558</td>\n",
       "      <td>-0.003594</td>\n",
       "    </tr>\n",
       "    <tr>\n",
       "      <th>green</th>\n",
       "      <td>-0.113368</td>\n",
       "      <td>0.968102</td>\n",
       "      <td>1.000000</td>\n",
       "      <td>0.906458</td>\n",
       "      <td>0.291272</td>\n",
       "      <td>-2.915983e-02</td>\n",
       "      <td>1.266193e-01</td>\n",
       "      <td>-0.493946</td>\n",
       "      <td>0.444685</td>\n",
       "      <td>0.113737</td>\n",
       "      <td>...</td>\n",
       "      <td>-0.205684</td>\n",
       "      <td>0.990455</td>\n",
       "      <td>-0.020428</td>\n",
       "      <td>0.049593</td>\n",
       "      <td>0.083575</td>\n",
       "      <td>0.105284</td>\n",
       "      <td>-3.330339e-03</td>\n",
       "      <td>0.003516</td>\n",
       "      <td>0.003100</td>\n",
       "      <td>0.003926</td>\n",
       "    </tr>\n",
       "    <tr>\n",
       "      <th>red</th>\n",
       "      <td>-0.097059</td>\n",
       "      <td>0.893422</td>\n",
       "      <td>0.906458</td>\n",
       "      <td>1.000000</td>\n",
       "      <td>0.226041</td>\n",
       "      <td>-5.507524e-02</td>\n",
       "      <td>5.413807e-02</td>\n",
       "      <td>-0.454545</td>\n",
       "      <td>0.322395</td>\n",
       "      <td>0.022293</td>\n",
       "      <td>...</td>\n",
       "      <td>-0.256467</td>\n",
       "      <td>0.880258</td>\n",
       "      <td>-0.031680</td>\n",
       "      <td>0.022456</td>\n",
       "      <td>0.058730</td>\n",
       "      <td>0.102448</td>\n",
       "      <td>-2.284212e-03</td>\n",
       "      <td>-0.012238</td>\n",
       "      <td>0.013571</td>\n",
       "      <td>-0.001284</td>\n",
       "    </tr>\n",
       "    <tr>\n",
       "      <th>nir</th>\n",
       "      <td>0.025547</td>\n",
       "      <td>0.123100</td>\n",
       "      <td>0.291272</td>\n",
       "      <td>0.226041</td>\n",
       "      <td>1.000000</td>\n",
       "      <td>3.502371e-01</td>\n",
       "      <td>2.493701e-01</td>\n",
       "      <td>0.601438</td>\n",
       "      <td>-0.617754</td>\n",
       "      <td>-0.091754</td>\n",
       "      <td>...</td>\n",
       "      <td>0.860026</td>\n",
       "      <td>0.313448</td>\n",
       "      <td>-0.002001</td>\n",
       "      <td>0.026143</td>\n",
       "      <td>0.035060</td>\n",
       "      <td>0.064399</td>\n",
       "      <td>-3.139453e-03</td>\n",
       "      <td>-0.014711</td>\n",
       "      <td>0.015061</td>\n",
       "      <td>0.037872</td>\n",
       "    </tr>\n",
       "    <tr>\n",
       "      <th>slope</th>\n",
       "      <td>0.267662</td>\n",
       "      <td>-0.067921</td>\n",
       "      <td>-0.029160</td>\n",
       "      <td>-0.055075</td>\n",
       "      <td>0.350237</td>\n",
       "      <td>1.000000e+00</td>\n",
       "      <td>2.277326e-01</td>\n",
       "      <td>0.335159</td>\n",
       "      <td>-0.331522</td>\n",
       "      <td>-0.012694</td>\n",
       "      <td>...</td>\n",
       "      <td>0.375827</td>\n",
       "      <td>-0.020763</td>\n",
       "      <td>0.086852</td>\n",
       "      <td>0.111211</td>\n",
       "      <td>0.093024</td>\n",
       "      <td>0.083402</td>\n",
       "      <td>-7.613684e-17</td>\n",
       "      <td>0.034238</td>\n",
       "      <td>-0.001529</td>\n",
       "      <td>0.034824</td>\n",
       "    </tr>\n",
       "    <tr>\n",
       "      <th>aspect</th>\n",
       "      <td>0.078070</td>\n",
       "      <td>0.114731</td>\n",
       "      <td>0.126619</td>\n",
       "      <td>0.054138</td>\n",
       "      <td>0.249370</td>\n",
       "      <td>2.277326e-01</td>\n",
       "      <td>1.000000e+00</td>\n",
       "      <td>0.127057</td>\n",
       "      <td>-0.108552</td>\n",
       "      <td>0.099184</td>\n",
       "      <td>...</td>\n",
       "      <td>0.202089</td>\n",
       "      <td>0.139659</td>\n",
       "      <td>0.027949</td>\n",
       "      <td>0.032411</td>\n",
       "      <td>0.046803</td>\n",
       "      <td>0.210259</td>\n",
       "      <td>-3.920643e-17</td>\n",
       "      <td>0.000632</td>\n",
       "      <td>0.029147</td>\n",
       "      <td>0.076443</td>\n",
       "    </tr>\n",
       "    <tr>\n",
       "      <th>ndvi</th>\n",
       "      <td>0.059157</td>\n",
       "      <td>-0.597294</td>\n",
       "      <td>-0.493946</td>\n",
       "      <td>-0.454545</td>\n",
       "      <td>0.601438</td>\n",
       "      <td>3.351591e-01</td>\n",
       "      <td>1.270572e-01</td>\n",
       "      <td>1.000000</td>\n",
       "      <td>-0.975223</td>\n",
       "      <td>-0.179870</td>\n",
       "      <td>...</td>\n",
       "      <td>0.903122</td>\n",
       "      <td>-0.491266</td>\n",
       "      <td>0.010473</td>\n",
       "      <td>-0.007814</td>\n",
       "      <td>-0.020380</td>\n",
       "      <td>-0.028550</td>\n",
       "      <td>5.039339e-04</td>\n",
       "      <td>-0.024555</td>\n",
       "      <td>0.018271</td>\n",
       "      <td>0.028988</td>\n",
       "    </tr>\n",
       "    <tr>\n",
       "      <th>ndwi</th>\n",
       "      <td>-0.062236</td>\n",
       "      <td>0.546507</td>\n",
       "      <td>0.444685</td>\n",
       "      <td>0.322395</td>\n",
       "      <td>-0.617754</td>\n",
       "      <td>-3.315220e-01</td>\n",
       "      <td>-1.085517e-01</td>\n",
       "      <td>-0.975223</td>\n",
       "      <td>1.000000</td>\n",
       "      <td>0.218778</td>\n",
       "      <td>...</td>\n",
       "      <td>-0.874116</td>\n",
       "      <td>0.447278</td>\n",
       "      <td>-0.003044</td>\n",
       "      <td>0.016708</td>\n",
       "      <td>0.025058</td>\n",
       "      <td>0.017561</td>\n",
       "      <td>-6.456840e-04</td>\n",
       "      <td>0.031681</td>\n",
       "      <td>-0.023598</td>\n",
       "      <td>-0.028808</td>\n",
       "    </tr>\n",
       "    <tr>\n",
       "      <th>lai</th>\n",
       "      <td>-0.263493</td>\n",
       "      <td>0.174597</td>\n",
       "      <td>0.113737</td>\n",
       "      <td>0.022293</td>\n",
       "      <td>-0.091754</td>\n",
       "      <td>-1.269375e-02</td>\n",
       "      <td>9.918351e-02</td>\n",
       "      <td>-0.179870</td>\n",
       "      <td>0.218778</td>\n",
       "      <td>1.000000</td>\n",
       "      <td>...</td>\n",
       "      <td>-0.144320</td>\n",
       "      <td>0.097821</td>\n",
       "      <td>0.029285</td>\n",
       "      <td>0.116946</td>\n",
       "      <td>0.078506</td>\n",
       "      <td>0.291135</td>\n",
       "      <td>1.577601e-03</td>\n",
       "      <td>0.071064</td>\n",
       "      <td>-0.228245</td>\n",
       "      <td>-0.070472</td>\n",
       "    </tr>\n",
       "    <tr>\n",
       "      <th>chirps</th>\n",
       "      <td>0.835705</td>\n",
       "      <td>-0.203394</td>\n",
       "      <td>-0.150058</td>\n",
       "      <td>-0.088118</td>\n",
       "      <td>0.088693</td>\n",
       "      <td>1.683077e-01</td>\n",
       "      <td>1.058973e-02</td>\n",
       "      <td>0.176797</td>\n",
       "      <td>-0.198743</td>\n",
       "      <td>-0.575179</td>\n",
       "      <td>...</td>\n",
       "      <td>0.153517</td>\n",
       "      <td>-0.140423</td>\n",
       "      <td>0.058861</td>\n",
       "      <td>0.000237</td>\n",
       "      <td>0.030152</td>\n",
       "      <td>-0.160735</td>\n",
       "      <td>-9.047231e-03</td>\n",
       "      <td>-0.041488</td>\n",
       "      <td>0.197836</td>\n",
       "      <td>0.043518</td>\n",
       "    </tr>\n",
       "    <tr>\n",
       "      <th>ndmi</th>\n",
       "      <td>0.014582</td>\n",
       "      <td>-0.035690</td>\n",
       "      <td>0.118998</td>\n",
       "      <td>0.144835</td>\n",
       "      <td>0.935575</td>\n",
       "      <td>3.576772e-01</td>\n",
       "      <td>2.143211e-01</td>\n",
       "      <td>0.773445</td>\n",
       "      <td>-0.811978</td>\n",
       "      <td>-0.167410</td>\n",
       "      <td>...</td>\n",
       "      <td>0.909544</td>\n",
       "      <td>0.132561</td>\n",
       "      <td>-0.008859</td>\n",
       "      <td>0.009451</td>\n",
       "      <td>0.018892</td>\n",
       "      <td>0.042316</td>\n",
       "      <td>-2.347636e-03</td>\n",
       "      <td>-0.028746</td>\n",
       "      <td>0.026026</td>\n",
       "      <td>0.035742</td>\n",
       "    </tr>\n",
       "    <tr>\n",
       "      <th>ndci</th>\n",
       "      <td>-0.085726</td>\n",
       "      <td>-0.074464</td>\n",
       "      <td>-0.075139</td>\n",
       "      <td>-0.059160</td>\n",
       "      <td>-0.053108</td>\n",
       "      <td>-5.276970e-02</td>\n",
       "      <td>-5.762194e-02</td>\n",
       "      <td>-0.006223</td>\n",
       "      <td>0.004690</td>\n",
       "      <td>-0.007821</td>\n",
       "      <td>...</td>\n",
       "      <td>-0.023592</td>\n",
       "      <td>-0.078393</td>\n",
       "      <td>-0.166434</td>\n",
       "      <td>-0.751843</td>\n",
       "      <td>-0.880071</td>\n",
       "      <td>-0.013186</td>\n",
       "      <td>1.725163e-03</td>\n",
       "      <td>-0.079428</td>\n",
       "      <td>-0.033176</td>\n",
       "      <td>-0.037170</td>\n",
       "    </tr>\n",
       "    <tr>\n",
       "      <th>savi</th>\n",
       "      <td>0.062598</td>\n",
       "      <td>-0.358997</td>\n",
       "      <td>-0.205684</td>\n",
       "      <td>-0.256467</td>\n",
       "      <td>0.860026</td>\n",
       "      <td>3.758267e-01</td>\n",
       "      <td>2.020893e-01</td>\n",
       "      <td>0.903122</td>\n",
       "      <td>-0.874116</td>\n",
       "      <td>-0.144320</td>\n",
       "      <td>...</td>\n",
       "      <td>1.000000</td>\n",
       "      <td>-0.180705</td>\n",
       "      <td>0.008197</td>\n",
       "      <td>0.005948</td>\n",
       "      <td>-0.000812</td>\n",
       "      <td>0.004935</td>\n",
       "      <td>-1.680724e-03</td>\n",
       "      <td>-0.017609</td>\n",
       "      <td>0.015671</td>\n",
       "      <td>0.037004</td>\n",
       "    </tr>\n",
       "    <tr>\n",
       "      <th>mndwi</th>\n",
       "      <td>-0.111668</td>\n",
       "      <td>0.947504</td>\n",
       "      <td>0.990455</td>\n",
       "      <td>0.880258</td>\n",
       "      <td>0.313448</td>\n",
       "      <td>-2.076292e-02</td>\n",
       "      <td>1.396593e-01</td>\n",
       "      <td>-0.491266</td>\n",
       "      <td>0.447278</td>\n",
       "      <td>0.097821</td>\n",
       "      <td>...</td>\n",
       "      <td>-0.180705</td>\n",
       "      <td>1.000000</td>\n",
       "      <td>-0.020603</td>\n",
       "      <td>0.051181</td>\n",
       "      <td>0.085067</td>\n",
       "      <td>0.102497</td>\n",
       "      <td>-3.632448e-03</td>\n",
       "      <td>0.004149</td>\n",
       "      <td>0.005720</td>\n",
       "      <td>0.004721</td>\n",
       "    </tr>\n",
       "    <tr>\n",
       "      <th>twi</th>\n",
       "      <td>0.141465</td>\n",
       "      <td>-0.009235</td>\n",
       "      <td>-0.020428</td>\n",
       "      <td>-0.031680</td>\n",
       "      <td>-0.002001</td>\n",
       "      <td>8.685160e-02</td>\n",
       "      <td>2.794871e-02</td>\n",
       "      <td>0.010473</td>\n",
       "      <td>-0.003044</td>\n",
       "      <td>0.029285</td>\n",
       "      <td>...</td>\n",
       "      <td>0.008197</td>\n",
       "      <td>-0.020603</td>\n",
       "      <td>1.000000</td>\n",
       "      <td>0.439634</td>\n",
       "      <td>0.323806</td>\n",
       "      <td>-0.121798</td>\n",
       "      <td>-1.658303e-03</td>\n",
       "      <td>0.513256</td>\n",
       "      <td>-0.051949</td>\n",
       "      <td>0.029570</td>\n",
       "    </tr>\n",
       "    <tr>\n",
       "      <th>wri</th>\n",
       "      <td>0.120633</td>\n",
       "      <td>0.065829</td>\n",
       "      <td>0.049593</td>\n",
       "      <td>0.022456</td>\n",
       "      <td>0.026143</td>\n",
       "      <td>1.112112e-01</td>\n",
       "      <td>3.241080e-02</td>\n",
       "      <td>-0.007814</td>\n",
       "      <td>0.016708</td>\n",
       "      <td>0.116946</td>\n",
       "      <td>...</td>\n",
       "      <td>0.005948</td>\n",
       "      <td>0.051181</td>\n",
       "      <td>0.439634</td>\n",
       "      <td>1.000000</td>\n",
       "      <td>0.900333</td>\n",
       "      <td>-0.118719</td>\n",
       "      <td>-1.179988e-03</td>\n",
       "      <td>0.246079</td>\n",
       "      <td>-0.091717</td>\n",
       "      <td>0.030606</td>\n",
       "    </tr>\n",
       "    <tr>\n",
       "      <th>awei</th>\n",
       "      <td>0.124694</td>\n",
       "      <td>0.094121</td>\n",
       "      <td>0.083575</td>\n",
       "      <td>0.058730</td>\n",
       "      <td>0.035060</td>\n",
       "      <td>9.302444e-02</td>\n",
       "      <td>4.680297e-02</td>\n",
       "      <td>-0.020380</td>\n",
       "      <td>0.025058</td>\n",
       "      <td>0.078506</td>\n",
       "      <td>...</td>\n",
       "      <td>-0.000812</td>\n",
       "      <td>0.085067</td>\n",
       "      <td>0.323806</td>\n",
       "      <td>0.900333</td>\n",
       "      <td>1.000000</td>\n",
       "      <td>-0.001779</td>\n",
       "      <td>-1.674916e-03</td>\n",
       "      <td>0.172030</td>\n",
       "      <td>0.036646</td>\n",
       "      <td>0.040524</td>\n",
       "    </tr>\n",
       "    <tr>\n",
       "      <th>geomorphology</th>\n",
       "      <td>0.020236</td>\n",
       "      <td>0.118756</td>\n",
       "      <td>0.105284</td>\n",
       "      <td>0.102448</td>\n",
       "      <td>0.064399</td>\n",
       "      <td>8.340212e-02</td>\n",
       "      <td>2.102586e-01</td>\n",
       "      <td>-0.028550</td>\n",
       "      <td>0.017561</td>\n",
       "      <td>0.291135</td>\n",
       "      <td>...</td>\n",
       "      <td>0.004935</td>\n",
       "      <td>0.102497</td>\n",
       "      <td>-0.121798</td>\n",
       "      <td>-0.118719</td>\n",
       "      <td>-0.001779</td>\n",
       "      <td>1.000000</td>\n",
       "      <td>-2.614183e-03</td>\n",
       "      <td>-0.045780</td>\n",
       "      <td>-0.030987</td>\n",
       "      <td>-0.045018</td>\n",
       "    </tr>\n",
       "    <tr>\n",
       "      <th>lineament</th>\n",
       "      <td>-0.006501</td>\n",
       "      <td>-0.003605</td>\n",
       "      <td>-0.003330</td>\n",
       "      <td>-0.002284</td>\n",
       "      <td>-0.003139</td>\n",
       "      <td>-7.613684e-17</td>\n",
       "      <td>-3.920643e-17</td>\n",
       "      <td>0.000504</td>\n",
       "      <td>-0.000646</td>\n",
       "      <td>0.001578</td>\n",
       "      <td>...</td>\n",
       "      <td>-0.001681</td>\n",
       "      <td>-0.003632</td>\n",
       "      <td>-0.001658</td>\n",
       "      <td>-0.001180</td>\n",
       "      <td>-0.001675</td>\n",
       "      <td>-0.002614</td>\n",
       "      <td>1.000000e+00</td>\n",
       "      <td>-0.000406</td>\n",
       "      <td>0.007622</td>\n",
       "      <td>-0.000832</td>\n",
       "    </tr>\n",
       "    <tr>\n",
       "      <th>fa</th>\n",
       "      <td>0.025311</td>\n",
       "      <td>0.012359</td>\n",
       "      <td>0.003516</td>\n",
       "      <td>-0.012238</td>\n",
       "      <td>-0.014711</td>\n",
       "      <td>3.423803e-02</td>\n",
       "      <td>6.317669e-04</td>\n",
       "      <td>-0.024555</td>\n",
       "      <td>0.031681</td>\n",
       "      <td>0.071064</td>\n",
       "      <td>...</td>\n",
       "      <td>-0.017609</td>\n",
       "      <td>0.004149</td>\n",
       "      <td>0.513256</td>\n",
       "      <td>0.246079</td>\n",
       "      <td>0.172030</td>\n",
       "      <td>-0.045780</td>\n",
       "      <td>-4.062814e-04</td>\n",
       "      <td>1.000000</td>\n",
       "      <td>-0.072738</td>\n",
       "      <td>0.008099</td>\n",
       "    </tr>\n",
       "    <tr>\n",
       "      <th>fd</th>\n",
       "      <td>0.103854</td>\n",
       "      <td>-0.016558</td>\n",
       "      <td>0.003100</td>\n",
       "      <td>0.013571</td>\n",
       "      <td>0.015061</td>\n",
       "      <td>-1.528742e-03</td>\n",
       "      <td>2.914739e-02</td>\n",
       "      <td>0.018271</td>\n",
       "      <td>-0.023598</td>\n",
       "      <td>-0.228245</td>\n",
       "      <td>...</td>\n",
       "      <td>0.015671</td>\n",
       "      <td>0.005720</td>\n",
       "      <td>-0.051949</td>\n",
       "      <td>-0.091717</td>\n",
       "      <td>0.036646</td>\n",
       "      <td>-0.030987</td>\n",
       "      <td>7.621838e-03</td>\n",
       "      <td>-0.072738</td>\n",
       "      <td>1.000000</td>\n",
       "      <td>0.114215</td>\n",
       "    </tr>\n",
       "    <tr>\n",
       "      <th>landslide</th>\n",
       "      <td>0.007093</td>\n",
       "      <td>-0.003594</td>\n",
       "      <td>0.003926</td>\n",
       "      <td>-0.001284</td>\n",
       "      <td>0.037872</td>\n",
       "      <td>3.482437e-02</td>\n",
       "      <td>7.644272e-02</td>\n",
       "      <td>0.028988</td>\n",
       "      <td>-0.028808</td>\n",
       "      <td>-0.070472</td>\n",
       "      <td>...</td>\n",
       "      <td>0.037004</td>\n",
       "      <td>0.004721</td>\n",
       "      <td>0.029570</td>\n",
       "      <td>0.030606</td>\n",
       "      <td>0.040524</td>\n",
       "      <td>-0.045018</td>\n",
       "      <td>-8.318093e-04</td>\n",
       "      <td>0.008099</td>\n",
       "      <td>0.114215</td>\n",
       "      <td>1.000000</td>\n",
       "    </tr>\n",
       "  </tbody>\n",
       "</table>\n",
       "<p>23 rows × 23 columns</p>\n",
       "</div>"
      ],
      "text/plain": [
       "               Unnamed: 0      blue     green       red       nir  \\\n",
       "Unnamed: 0       1.000000 -0.128026 -0.113368 -0.097059  0.025547   \n",
       "blue            -0.128026  1.000000  0.968102  0.893422  0.123100   \n",
       "green           -0.113368  0.968102  1.000000  0.906458  0.291272   \n",
       "red             -0.097059  0.893422  0.906458  1.000000  0.226041   \n",
       "nir              0.025547  0.123100  0.291272  0.226041  1.000000   \n",
       "slope            0.267662 -0.067921 -0.029160 -0.055075  0.350237   \n",
       "aspect           0.078070  0.114731  0.126619  0.054138  0.249370   \n",
       "ndvi             0.059157 -0.597294 -0.493946 -0.454545  0.601438   \n",
       "ndwi            -0.062236  0.546507  0.444685  0.322395 -0.617754   \n",
       "lai             -0.263493  0.174597  0.113737  0.022293 -0.091754   \n",
       "chirps           0.835705 -0.203394 -0.150058 -0.088118  0.088693   \n",
       "ndmi             0.014582 -0.035690  0.118998  0.144835  0.935575   \n",
       "ndci            -0.085726 -0.074464 -0.075139 -0.059160 -0.053108   \n",
       "savi             0.062598 -0.358997 -0.205684 -0.256467  0.860026   \n",
       "mndwi           -0.111668  0.947504  0.990455  0.880258  0.313448   \n",
       "twi              0.141465 -0.009235 -0.020428 -0.031680 -0.002001   \n",
       "wri              0.120633  0.065829  0.049593  0.022456  0.026143   \n",
       "awei             0.124694  0.094121  0.083575  0.058730  0.035060   \n",
       "geomorphology    0.020236  0.118756  0.105284  0.102448  0.064399   \n",
       "lineament       -0.006501 -0.003605 -0.003330 -0.002284 -0.003139   \n",
       "fa               0.025311  0.012359  0.003516 -0.012238 -0.014711   \n",
       "fd               0.103854 -0.016558  0.003100  0.013571  0.015061   \n",
       "landslide        0.007093 -0.003594  0.003926 -0.001284  0.037872   \n",
       "\n",
       "                      slope        aspect      ndvi      ndwi       lai  ...  \\\n",
       "Unnamed: 0     2.676617e-01  7.806962e-02  0.059157 -0.062236 -0.263493  ...   \n",
       "blue          -6.792084e-02  1.147312e-01 -0.597294  0.546507  0.174597  ...   \n",
       "green         -2.915983e-02  1.266193e-01 -0.493946  0.444685  0.113737  ...   \n",
       "red           -5.507524e-02  5.413807e-02 -0.454545  0.322395  0.022293  ...   \n",
       "nir            3.502371e-01  2.493701e-01  0.601438 -0.617754 -0.091754  ...   \n",
       "slope          1.000000e+00  2.277326e-01  0.335159 -0.331522 -0.012694  ...   \n",
       "aspect         2.277326e-01  1.000000e+00  0.127057 -0.108552  0.099184  ...   \n",
       "ndvi           3.351591e-01  1.270572e-01  1.000000 -0.975223 -0.179870  ...   \n",
       "ndwi          -3.315220e-01 -1.085517e-01 -0.975223  1.000000  0.218778  ...   \n",
       "lai           -1.269375e-02  9.918351e-02 -0.179870  0.218778  1.000000  ...   \n",
       "chirps         1.683077e-01  1.058973e-02  0.176797 -0.198743 -0.575179  ...   \n",
       "ndmi           3.576772e-01  2.143211e-01  0.773445 -0.811978 -0.167410  ...   \n",
       "ndci          -5.276970e-02 -5.762194e-02 -0.006223  0.004690 -0.007821  ...   \n",
       "savi           3.758267e-01  2.020893e-01  0.903122 -0.874116 -0.144320  ...   \n",
       "mndwi         -2.076292e-02  1.396593e-01 -0.491266  0.447278  0.097821  ...   \n",
       "twi            8.685160e-02  2.794871e-02  0.010473 -0.003044  0.029285  ...   \n",
       "wri            1.112112e-01  3.241080e-02 -0.007814  0.016708  0.116946  ...   \n",
       "awei           9.302444e-02  4.680297e-02 -0.020380  0.025058  0.078506  ...   \n",
       "geomorphology  8.340212e-02  2.102586e-01 -0.028550  0.017561  0.291135  ...   \n",
       "lineament     -7.613684e-17 -3.920643e-17  0.000504 -0.000646  0.001578  ...   \n",
       "fa             3.423803e-02  6.317669e-04 -0.024555  0.031681  0.071064  ...   \n",
       "fd            -1.528742e-03  2.914739e-02  0.018271 -0.023598 -0.228245  ...   \n",
       "landslide      3.482437e-02  7.644272e-02  0.028988 -0.028808 -0.070472  ...   \n",
       "\n",
       "                   savi     mndwi       twi       wri      awei  \\\n",
       "Unnamed: 0     0.062598 -0.111668  0.141465  0.120633  0.124694   \n",
       "blue          -0.358997  0.947504 -0.009235  0.065829  0.094121   \n",
       "green         -0.205684  0.990455 -0.020428  0.049593  0.083575   \n",
       "red           -0.256467  0.880258 -0.031680  0.022456  0.058730   \n",
       "nir            0.860026  0.313448 -0.002001  0.026143  0.035060   \n",
       "slope          0.375827 -0.020763  0.086852  0.111211  0.093024   \n",
       "aspect         0.202089  0.139659  0.027949  0.032411  0.046803   \n",
       "ndvi           0.903122 -0.491266  0.010473 -0.007814 -0.020380   \n",
       "ndwi          -0.874116  0.447278 -0.003044  0.016708  0.025058   \n",
       "lai           -0.144320  0.097821  0.029285  0.116946  0.078506   \n",
       "chirps         0.153517 -0.140423  0.058861  0.000237  0.030152   \n",
       "ndmi           0.909544  0.132561 -0.008859  0.009451  0.018892   \n",
       "ndci          -0.023592 -0.078393 -0.166434 -0.751843 -0.880071   \n",
       "savi           1.000000 -0.180705  0.008197  0.005948 -0.000812   \n",
       "mndwi         -0.180705  1.000000 -0.020603  0.051181  0.085067   \n",
       "twi            0.008197 -0.020603  1.000000  0.439634  0.323806   \n",
       "wri            0.005948  0.051181  0.439634  1.000000  0.900333   \n",
       "awei          -0.000812  0.085067  0.323806  0.900333  1.000000   \n",
       "geomorphology  0.004935  0.102497 -0.121798 -0.118719 -0.001779   \n",
       "lineament     -0.001681 -0.003632 -0.001658 -0.001180 -0.001675   \n",
       "fa            -0.017609  0.004149  0.513256  0.246079  0.172030   \n",
       "fd             0.015671  0.005720 -0.051949 -0.091717  0.036646   \n",
       "landslide      0.037004  0.004721  0.029570  0.030606  0.040524   \n",
       "\n",
       "               geomorphology     lineament        fa        fd  landslide  \n",
       "Unnamed: 0          0.020236 -6.500932e-03  0.025311  0.103854   0.007093  \n",
       "blue                0.118756 -3.604602e-03  0.012359 -0.016558  -0.003594  \n",
       "green               0.105284 -3.330339e-03  0.003516  0.003100   0.003926  \n",
       "red                 0.102448 -2.284212e-03 -0.012238  0.013571  -0.001284  \n",
       "nir                 0.064399 -3.139453e-03 -0.014711  0.015061   0.037872  \n",
       "slope               0.083402 -7.613684e-17  0.034238 -0.001529   0.034824  \n",
       "aspect              0.210259 -3.920643e-17  0.000632  0.029147   0.076443  \n",
       "ndvi               -0.028550  5.039339e-04 -0.024555  0.018271   0.028988  \n",
       "ndwi                0.017561 -6.456840e-04  0.031681 -0.023598  -0.028808  \n",
       "lai                 0.291135  1.577601e-03  0.071064 -0.228245  -0.070472  \n",
       "chirps             -0.160735 -9.047231e-03 -0.041488  0.197836   0.043518  \n",
       "ndmi                0.042316 -2.347636e-03 -0.028746  0.026026   0.035742  \n",
       "ndci               -0.013186  1.725163e-03 -0.079428 -0.033176  -0.037170  \n",
       "savi                0.004935 -1.680724e-03 -0.017609  0.015671   0.037004  \n",
       "mndwi               0.102497 -3.632448e-03  0.004149  0.005720   0.004721  \n",
       "twi                -0.121798 -1.658303e-03  0.513256 -0.051949   0.029570  \n",
       "wri                -0.118719 -1.179988e-03  0.246079 -0.091717   0.030606  \n",
       "awei               -0.001779 -1.674916e-03  0.172030  0.036646   0.040524  \n",
       "geomorphology       1.000000 -2.614183e-03 -0.045780 -0.030987  -0.045018  \n",
       "lineament          -0.002614  1.000000e+00 -0.000406  0.007622  -0.000832  \n",
       "fa                 -0.045780 -4.062814e-04  1.000000 -0.072738   0.008099  \n",
       "fd                 -0.030987  7.621838e-03 -0.072738  1.000000   0.114215  \n",
       "landslide          -0.045018 -8.318093e-04  0.008099  0.114215   1.000000  \n",
       "\n",
       "[23 rows x 23 columns]"
      ]
     },
     "execution_count": 5,
     "metadata": {},
     "output_type": "execute_result"
    }
   ],
   "source": [
    "data.corr()"
   ]
  },
  {
   "cell_type": "code",
   "execution_count": 62,
   "id": "7eb35eb5",
   "metadata": {},
   "outputs": [
    {
     "data": {
      "text/plain": [
       "<AxesSubplot:>"
      ]
     },
     "execution_count": 62,
     "metadata": {},
     "output_type": "execute_result"
    },
    {
     "data": {
      "image/png": "[encoded data removed]",
      "text/plain": [
       "<Figure size 2000x2000 with 2 Axes>"
      ]
     },
     "metadata": {},
     "output_type": "display_data"
    }
   ],
   "source": [
    "plt.figure(figsize=(20,20))\n",
    "sns.heatmap(data.corr(),annot=True,cmap=\"Blues\")"
   ]
  },
  {
   "cell_type": "code",
   "execution_count": 9,
   "id": "60b729c7",
   "metadata": {},
   "outputs": [
    {
     "name": "stdout",
     "output_type": "stream",
     "text": [
      "<class 'pandas.core.frame.DataFrame'>\n",
      "RangeIndex: 244992 entries, 0 to 244991\n",
      "Data columns (total 23 columns):\n",
      " #   Column         Non-Null Count   Dtype  \n",
      "---  ------         --------------   -----  \n",
      " 0   Unnamed: 0     244992 non-null  int64  \n",
      " 1   blue           244992 non-null  float64\n",
      " 2   green          244992 non-null  float64\n",
      " 3   red            244992 non-null  float64\n",
      " 4   nir            244992 non-null  float64\n",
      " 5   slope          244992 non-null  float64\n",
      " 6   aspect         244992 non-null  float64\n",
      " 7   ndvi           244992 non-null  float64\n",
      " 8   ndwi           244992 non-null  float64\n",
      " 9   lai            244992 non-null  int64  \n",
      " 10  chirps         244992 non-null  float64\n",
      " 11  ndmi           244992 non-null  float64\n",
      " 12  ndci           244992 non-null  float64\n",
      " 13  savi           244992 non-null  float64\n",
      " 14  mndwi          244992 non-null  float64\n",
      " 15  twi            244992 non-null  float64\n",
      " 16  wri            244992 non-null  float64\n",
      " 17  awei           244992 non-null  float64\n",
      " 18  geomorphology  244992 non-null  int64  \n",
      " 19  lineament      244992 non-null  int64  \n",
      " 20  fa             244992 non-null  float64\n",
      " 21  fd             244992 non-null  int64  \n",
      " 22  landslide      244992 non-null  int64  \n",
      "dtypes: float64(17), int64(6)\n",
      "memory usage: 43.0 MB\n"
     ]
    }
   ],
   "source": [
    "data.info()"
   ]
  },
  {
   "cell_type": "code",
   "execution_count": 10,
   "id": "e0bff8bb",
   "metadata": {},
   "outputs": [],
   "source": [
    "data.drop(['Unnamed: 0','lai','ndci','fa','fd'],axis=1,inplace=True)"
   ]
  },
  {
   "cell_type": "code",
   "execution_count": 11,
   "id": "65e8ca05",
   "metadata": {
    "scrolled": true
   },
   "outputs": [
    {
     "data": {
      "text/html": [
       "<div>\n",
       "<style scoped>\n",
       "    .dataframe tbody tr th:only-of-type {\n",
       "        vertical-align: middle;\n",
       "    }\n",
       "\n",
       "    .dataframe tbody tr th {\n",
       "        vertical-align: top;\n",
       "    }\n",
       "\n",
       "    .dataframe thead th {\n",
       "        text-align: right;\n",
       "    }\n",
       "</style>\n",
       "<table border=\"1\" class=\"dataframe\">\n",
       "  <thead>\n",
       "    <tr style=\"text-align: right;\">\n",
       "      <th></th>\n",
       "      <th>blue</th>\n",
       "      <th>green</th>\n",
       "      <th>red</th>\n",
       "      <th>nir</th>\n",
       "      <th>slope</th>\n",
       "      <th>aspect</th>\n",
       "      <th>ndvi</th>\n",
       "      <th>ndwi</th>\n",
       "      <th>chirps</th>\n",
       "      <th>ndmi</th>\n",
       "      <th>savi</th>\n",
       "      <th>mndwi</th>\n",
       "      <th>twi</th>\n",
       "      <th>wri</th>\n",
       "      <th>awei</th>\n",
       "      <th>geomorphology</th>\n",
       "      <th>lineament</th>\n",
       "      <th>landslide</th>\n",
       "    </tr>\n",
       "  </thead>\n",
       "  <tbody>\n",
       "    <tr>\n",
       "      <th>0</th>\n",
       "      <td>0.02990</td>\n",
       "      <td>0.0428</td>\n",
       "      <td>0.04585</td>\n",
       "      <td>0.17930</td>\n",
       "      <td>23.379407</td>\n",
       "      <td>184.960739</td>\n",
       "      <td>0.592716</td>\n",
       "      <td>-0.614588</td>\n",
       "      <td>9.216001</td>\n",
       "      <td>-0.095130</td>\n",
       "      <td>0.14308</td>\n",
       "      <td>-0.670516</td>\n",
       "      <td>-6.524590</td>\n",
       "      <td>0.259679</td>\n",
       "      <td>-1.094512</td>\n",
       "      <td>350</td>\n",
       "      <td>0</td>\n",
       "      <td>0</td>\n",
       "    </tr>\n",
       "    <tr>\n",
       "      <th>1</th>\n",
       "      <td>0.03185</td>\n",
       "      <td>0.0474</td>\n",
       "      <td>0.04570</td>\n",
       "      <td>0.19155</td>\n",
       "      <td>23.379407</td>\n",
       "      <td>184.960739</td>\n",
       "      <td>0.614752</td>\n",
       "      <td>-0.603264</td>\n",
       "      <td>9.216224</td>\n",
       "      <td>-0.062293</td>\n",
       "      <td>0.15353</td>\n",
       "      <td>-0.641452</td>\n",
       "      <td>-5.307001</td>\n",
       "      <td>0.259679</td>\n",
       "      <td>-1.094512</td>\n",
       "      <td>350</td>\n",
       "      <td>0</td>\n",
       "      <td>0</td>\n",
       "    </tr>\n",
       "  </tbody>\n",
       "</table>\n",
       "</div>"
      ],
      "text/plain": [
       "      blue   green      red      nir      slope      aspect      ndvi  \\\n",
       "0  0.02990  0.0428  0.04585  0.17930  23.379407  184.960739  0.592716   \n",
       "1  0.03185  0.0474  0.04570  0.19155  23.379407  184.960739  0.614752   \n",
       "\n",
       "       ndwi    chirps      ndmi     savi     mndwi       twi       wri  \\\n",
       "0 -0.614588  9.216001 -0.095130  0.14308 -0.670516 -6.524590  0.259679   \n",
       "1 -0.603264  9.216224 -0.062293  0.15353 -0.641452 -5.307001  0.259679   \n",
       "\n",
       "       awei  geomorphology  lineament  landslide  \n",
       "0 -1.094512            350          0          0  \n",
       "1 -1.094512            350          0          0  "
      ]
     },
     "execution_count": 11,
     "metadata": {},
     "output_type": "execute_result"
    }
   ],
   "source": [
    "data.head(2)"
   ]
  },
  {
   "cell_type": "code",
   "execution_count": 12,
   "id": "868d4087",
   "metadata": {},
   "outputs": [
    {
     "data": {
      "text/plain": [
       "0    235032\n",
       "1      9960\n",
       "Name: landslide, dtype: int64"
      ]
     },
     "execution_count": 12,
     "metadata": {},
     "output_type": "execute_result"
    }
   ],
   "source": [
    "data['landslide'].value_counts()"
   ]
  },
  {
   "cell_type": "code",
   "execution_count": 13,
   "id": "e2bbc37f",
   "metadata": {},
   "outputs": [
    {
     "data": {
      "text/plain": [
       "<AxesSubplot:ylabel='landslide'>"
      ]
     },
     "execution_count": 13,
     "metadata": {},
     "output_type": "execute_result"
    },
    {
     "data": {
      "image/png": "[encoded data removed]",
      "text/plain": [
       "<Figure size 640x480 with 1 Axes>"
      ]
     },
     "metadata": {},
     "output_type": "display_data"
    }
   ],
   "source": [
    "(data['landslide'].value_counts()).plot.pie(colors=['blue','red'])"
   ]
  },
  {
   "cell_type": "code",
   "execution_count": 14,
   "id": "5abf5844",
   "metadata": {},
   "outputs": [],
   "source": [
    "from imblearn.under_sampling import RandomUnderSampler"
   ]
  },
  {
   "cell_type": "code",
   "execution_count": 15,
   "id": "2e0efefc",
   "metadata": {},
   "outputs": [],
   "source": [
    "under_sampler=RandomUnderSampler()"
   ]
  },
  {
   "cell_type": "code",
   "execution_count": 16,
   "id": "c2d4d6c5",
   "metadata": {},
   "outputs": [],
   "source": [
    "x,y=under_sampler.fit_resample(data.drop('landslide',axis=1),data['landslide'])"
   ]
  },
  {
   "cell_type": "code",
   "execution_count": 17,
   "id": "9ac47769",
   "metadata": {},
   "outputs": [
    {
     "data": {
      "text/plain": [
       "0    9960\n",
       "1    9960\n",
       "Name: landslide, dtype: int64"
      ]
     },
     "execution_count": 17,
     "metadata": {},
     "output_type": "execute_result"
    }
   ],
   "source": [
    "y.value_counts()"
   ]
  },
  {
   "cell_type": "code",
   "execution_count": 18,
   "id": "895ead90",
   "metadata": {},
   "outputs": [
    {
     "data": {
      "text/html": [
       "<div>\n",
       "<style scoped>\n",
       "    .dataframe tbody tr th:only-of-type {\n",
       "        vertical-align: middle;\n",
       "    }\n",
       "\n",
       "    .dataframe tbody tr th {\n",
       "        vertical-align: top;\n",
       "    }\n",
       "\n",
       "    .dataframe thead th {\n",
       "        text-align: right;\n",
       "    }\n",
       "</style>\n",
       "<table border=\"1\" class=\"dataframe\">\n",
       "  <thead>\n",
       "    <tr style=\"text-align: right;\">\n",
       "      <th></th>\n",
       "      <th>blue</th>\n",
       "      <th>green</th>\n",
       "      <th>red</th>\n",
       "      <th>nir</th>\n",
       "      <th>slope</th>\n",
       "      <th>aspect</th>\n",
       "      <th>ndvi</th>\n",
       "      <th>ndwi</th>\n",
       "      <th>chirps</th>\n",
       "      <th>ndmi</th>\n",
       "      <th>savi</th>\n",
       "      <th>mndwi</th>\n",
       "      <th>twi</th>\n",
       "      <th>wri</th>\n",
       "      <th>awei</th>\n",
       "      <th>geomorphology</th>\n",
       "      <th>lineament</th>\n",
       "    </tr>\n",
       "  </thead>\n",
       "  <tbody>\n",
       "    <tr>\n",
       "      <th>0</th>\n",
       "      <td>0.07330</td>\n",
       "      <td>0.09650</td>\n",
       "      <td>0.07030</td>\n",
       "      <td>0.32750</td>\n",
       "      <td>37.939045</td>\n",
       "      <td>330.706604</td>\n",
       "      <td>0.646556</td>\n",
       "      <td>-0.544811</td>\n",
       "      <td>9.376139</td>\n",
       "      <td>0.202938</td>\n",
       "      <td>0.218106</td>\n",
       "      <td>-0.384370</td>\n",
       "      <td>-5.094673</td>\n",
       "      <td>0.219145</td>\n",
       "      <td>-1.123000</td>\n",
       "      <td>358</td>\n",
       "      <td>0</td>\n",
       "    </tr>\n",
       "    <tr>\n",
       "      <th>1</th>\n",
       "      <td>0.03645</td>\n",
       "      <td>0.05490</td>\n",
       "      <td>0.04005</td>\n",
       "      <td>0.26435</td>\n",
       "      <td>10.312490</td>\n",
       "      <td>36.804173</td>\n",
       "      <td>0.736859</td>\n",
       "      <td>-0.656069</td>\n",
       "      <td>9.354655</td>\n",
       "      <td>0.098369</td>\n",
       "      <td>0.214463</td>\n",
       "      <td>-0.596175</td>\n",
       "      <td>-6.952431</td>\n",
       "      <td>0.260800</td>\n",
       "      <td>-1.106987</td>\n",
       "      <td>354</td>\n",
       "      <td>0</td>\n",
       "    </tr>\n",
       "    <tr>\n",
       "      <th>2</th>\n",
       "      <td>0.05190</td>\n",
       "      <td>0.07800</td>\n",
       "      <td>0.05545</td>\n",
       "      <td>0.33245</td>\n",
       "      <td>26.239605</td>\n",
       "      <td>264.345947</td>\n",
       "      <td>0.714102</td>\n",
       "      <td>-0.619929</td>\n",
       "      <td>9.308429</td>\n",
       "      <td>0.210119</td>\n",
       "      <td>0.237747</td>\n",
       "      <td>-0.471186</td>\n",
       "      <td>-6.883492</td>\n",
       "      <td>0.332060</td>\n",
       "      <td>-1.081837</td>\n",
       "      <td>351</td>\n",
       "      <td>0</td>\n",
       "    </tr>\n",
       "    <tr>\n",
       "      <th>3</th>\n",
       "      <td>0.03650</td>\n",
       "      <td>0.04620</td>\n",
       "      <td>0.03660</td>\n",
       "      <td>0.13370</td>\n",
       "      <td>21.035219</td>\n",
       "      <td>97.254662</td>\n",
       "      <td>0.570170</td>\n",
       "      <td>-0.486381</td>\n",
       "      <td>9.339642</td>\n",
       "      <td>-0.237525</td>\n",
       "      <td>0.113651</td>\n",
       "      <td>-0.648936</td>\n",
       "      <td>-6.362009</td>\n",
       "      <td>0.232145</td>\n",
       "      <td>-1.054137</td>\n",
       "      <td>399</td>\n",
       "      <td>0</td>\n",
       "    </tr>\n",
       "    <tr>\n",
       "      <th>4</th>\n",
       "      <td>0.03870</td>\n",
       "      <td>0.05865</td>\n",
       "      <td>0.04855</td>\n",
       "      <td>0.25665</td>\n",
       "      <td>9.679992</td>\n",
       "      <td>253.458740</td>\n",
       "      <td>0.681848</td>\n",
       "      <td>-0.627973</td>\n",
       "      <td>9.322713</td>\n",
       "      <td>0.083712</td>\n",
       "      <td>0.198757</td>\n",
       "      <td>-0.574460</td>\n",
       "      <td>-3.461670</td>\n",
       "      <td>0.207218</td>\n",
       "      <td>-1.142737</td>\n",
       "      <td>352</td>\n",
       "      <td>0</td>\n",
       "    </tr>\n",
       "    <tr>\n",
       "      <th>...</th>\n",
       "      <td>...</td>\n",
       "      <td>...</td>\n",
       "      <td>...</td>\n",
       "      <td>...</td>\n",
       "      <td>...</td>\n",
       "      <td>...</td>\n",
       "      <td>...</td>\n",
       "      <td>...</td>\n",
       "      <td>...</td>\n",
       "      <td>...</td>\n",
       "      <td>...</td>\n",
       "      <td>...</td>\n",
       "      <td>...</td>\n",
       "      <td>...</td>\n",
       "      <td>...</td>\n",
       "      <td>...</td>\n",
       "      <td>...</td>\n",
       "    </tr>\n",
       "    <tr>\n",
       "      <th>19915</th>\n",
       "      <td>0.05540</td>\n",
       "      <td>0.08825</td>\n",
       "      <td>0.06030</td>\n",
       "      <td>0.34760</td>\n",
       "      <td>23.379407</td>\n",
       "      <td>184.960739</td>\n",
       "      <td>0.704339</td>\n",
       "      <td>-0.595044</td>\n",
       "      <td>9.465757</td>\n",
       "      <td>0.231314</td>\n",
       "      <td>0.240687</td>\n",
       "      <td>-0.421785</td>\n",
       "      <td>-6.029397</td>\n",
       "      <td>0.440177</td>\n",
       "      <td>-0.966637</td>\n",
       "      <td>352</td>\n",
       "      <td>0</td>\n",
       "    </tr>\n",
       "    <tr>\n",
       "      <th>19916</th>\n",
       "      <td>0.05900</td>\n",
       "      <td>0.08830</td>\n",
       "      <td>0.06910</td>\n",
       "      <td>0.36130</td>\n",
       "      <td>23.379407</td>\n",
       "      <td>184.960739</td>\n",
       "      <td>0.678903</td>\n",
       "      <td>-0.607206</td>\n",
       "      <td>9.466014</td>\n",
       "      <td>0.249524</td>\n",
       "      <td>0.238376</td>\n",
       "      <td>-0.421553</td>\n",
       "      <td>-6.569770</td>\n",
       "      <td>0.302219</td>\n",
       "      <td>-1.052750</td>\n",
       "      <td>353</td>\n",
       "      <td>0</td>\n",
       "    </tr>\n",
       "    <tr>\n",
       "      <th>19917</th>\n",
       "      <td>0.06090</td>\n",
       "      <td>0.08675</td>\n",
       "      <td>0.07885</td>\n",
       "      <td>0.29820</td>\n",
       "      <td>23.379407</td>\n",
       "      <td>184.960739</td>\n",
       "      <td>0.581753</td>\n",
       "      <td>-0.549292</td>\n",
       "      <td>9.466271</td>\n",
       "      <td>0.157609</td>\n",
       "      <td>0.190804</td>\n",
       "      <td>-0.428807</td>\n",
       "      <td>-6.684044</td>\n",
       "      <td>0.273548</td>\n",
       "      <td>-1.073650</td>\n",
       "      <td>355</td>\n",
       "      <td>0</td>\n",
       "    </tr>\n",
       "    <tr>\n",
       "      <th>19918</th>\n",
       "      <td>0.05525</td>\n",
       "      <td>0.08360</td>\n",
       "      <td>0.07565</td>\n",
       "      <td>0.31130</td>\n",
       "      <td>23.379407</td>\n",
       "      <td>184.960739</td>\n",
       "      <td>0.608993</td>\n",
       "      <td>-0.576602</td>\n",
       "      <td>9.466529</td>\n",
       "      <td>0.178497</td>\n",
       "      <td>0.202492</td>\n",
       "      <td>-0.443779</td>\n",
       "      <td>-5.803711</td>\n",
       "      <td>0.379429</td>\n",
       "      <td>-1.011662</td>\n",
       "      <td>356</td>\n",
       "      <td>0</td>\n",
       "    </tr>\n",
       "    <tr>\n",
       "      <th>19919</th>\n",
       "      <td>0.06145</td>\n",
       "      <td>0.09225</td>\n",
       "      <td>0.08080</td>\n",
       "      <td>0.32120</td>\n",
       "      <td>23.379407</td>\n",
       "      <td>184.960739</td>\n",
       "      <td>0.598010</td>\n",
       "      <td>-0.553755</td>\n",
       "      <td>9.466786</td>\n",
       "      <td>0.193608</td>\n",
       "      <td>0.202828</td>\n",
       "      <td>-0.403395</td>\n",
       "      <td>-4.348795</td>\n",
       "      <td>0.420831</td>\n",
       "      <td>-0.983350</td>\n",
       "      <td>358</td>\n",
       "      <td>0</td>\n",
       "    </tr>\n",
       "  </tbody>\n",
       "</table>\n",
       "<p>19920 rows × 17 columns</p>\n",
       "</div>"
      ],
      "text/plain": [
       "          blue    green      red      nir      slope      aspect      ndvi  \\\n",
       "0      0.07330  0.09650  0.07030  0.32750  37.939045  330.706604  0.646556   \n",
       "1      0.03645  0.05490  0.04005  0.26435  10.312490   36.804173  0.736859   \n",
       "2      0.05190  0.07800  0.05545  0.33245  26.239605  264.345947  0.714102   \n",
       "3      0.03650  0.04620  0.03660  0.13370  21.035219   97.254662  0.570170   \n",
       "4      0.03870  0.05865  0.04855  0.25665   9.679992  253.458740  0.681848   \n",
       "...        ...      ...      ...      ...        ...         ...       ...   \n",
       "19915  0.05540  0.08825  0.06030  0.34760  23.379407  184.960739  0.704339   \n",
       "19916  0.05900  0.08830  0.06910  0.36130  23.379407  184.960739  0.678903   \n",
       "19917  0.06090  0.08675  0.07885  0.29820  23.379407  184.960739  0.581753   \n",
       "19918  0.05525  0.08360  0.07565  0.31130  23.379407  184.960739  0.608993   \n",
       "19919  0.06145  0.09225  0.08080  0.32120  23.379407  184.960739  0.598010   \n",
       "\n",
       "           ndwi    chirps      ndmi      savi     mndwi       twi       wri  \\\n",
       "0     -0.544811  9.376139  0.202938  0.218106 -0.384370 -5.094673  0.219145   \n",
       "1     -0.656069  9.354655  0.098369  0.214463 -0.596175 -6.952431  0.260800   \n",
       "2     -0.619929  9.308429  0.210119  0.237747 -0.471186 -6.883492  0.332060   \n",
       "3     -0.486381  9.339642 -0.237525  0.113651 -0.648936 -6.362009  0.232145   \n",
       "4     -0.627973  9.322713  0.083712  0.198757 -0.574460 -3.461670  0.207218   \n",
       "...         ...       ...       ...       ...       ...       ...       ...   \n",
       "19915 -0.595044  9.465757  0.231314  0.240687 -0.421785 -6.029397  0.440177   \n",
       "19916 -0.607206  9.466014  0.249524  0.238376 -0.421553 -6.569770  0.302219   \n",
       "19917 -0.549292  9.466271  0.157609  0.190804 -0.428807 -6.684044  0.273548   \n",
       "19918 -0.576602  9.466529  0.178497  0.202492 -0.443779 -5.803711  0.379429   \n",
       "19919 -0.553755  9.466786  0.193608  0.202828 -0.403395 -4.348795  0.420831   \n",
       "\n",
       "           awei  geomorphology  lineament  \n",
       "0     -1.123000            358          0  \n",
       "1     -1.106987            354          0  \n",
       "2     -1.081837            351          0  \n",
       "3     -1.054137            399          0  \n",
       "4     -1.142737            352          0  \n",
       "...         ...            ...        ...  \n",
       "19915 -0.966637            352          0  \n",
       "19916 -1.052750            353          0  \n",
       "19917 -1.073650            355          0  \n",
       "19918 -1.011662            356          0  \n",
       "19919 -0.983350            358          0  \n",
       "\n",
       "[19920 rows x 17 columns]"
      ]
     },
     "execution_count": 18,
     "metadata": {},
     "output_type": "execute_result"
    }
   ],
   "source": [
    "x"
   ]
  },
  {
   "cell_type": "code",
   "execution_count": 19,
   "id": "a5a4edb1",
   "metadata": {
    "scrolled": true
   },
   "outputs": [
    {
     "data": {
      "text/plain": [
       "<AxesSubplot:>"
      ]
     },
     "execution_count": 19,
     "metadata": {},
     "output_type": "execute_result"
    },
    {
     "data": {
      "image/png": "[encoded data removed]",
      "text/plain": [
       "<Figure size 640x480 with 1 Axes>"
      ]
     },
     "metadata": {},
     "output_type": "display_data"
    }
   ],
   "source": [
    "y.value_counts().plot.bar(width=0.3,color='orange')"
   ]
  },
  {
   "cell_type": "code",
   "execution_count": 20,
   "id": "9aa421ae",
   "metadata": {},
   "outputs": [
    {
     "data": {
      "text/html": [
       "<div>\n",
       "<style scoped>\n",
       "    .dataframe tbody tr th:only-of-type {\n",
       "        vertical-align: middle;\n",
       "    }\n",
       "\n",
       "    .dataframe tbody tr th {\n",
       "        vertical-align: top;\n",
       "    }\n",
       "\n",
       "    .dataframe thead th {\n",
       "        text-align: right;\n",
       "    }\n",
       "</style>\n",
       "<table border=\"1\" class=\"dataframe\">\n",
       "  <thead>\n",
       "    <tr style=\"text-align: right;\">\n",
       "      <th></th>\n",
       "      <th>blue</th>\n",
       "      <th>green</th>\n",
       "      <th>red</th>\n",
       "      <th>nir</th>\n",
       "      <th>slope</th>\n",
       "      <th>aspect</th>\n",
       "      <th>ndvi</th>\n",
       "      <th>ndwi</th>\n",
       "      <th>chirps</th>\n",
       "      <th>ndmi</th>\n",
       "      <th>savi</th>\n",
       "      <th>mndwi</th>\n",
       "      <th>twi</th>\n",
       "      <th>wri</th>\n",
       "      <th>awei</th>\n",
       "      <th>geomorphology</th>\n",
       "      <th>lineament</th>\n",
       "      <th>landslide</th>\n",
       "    </tr>\n",
       "  </thead>\n",
       "  <tbody>\n",
       "    <tr>\n",
       "      <th>0</th>\n",
       "      <td>0.02990</td>\n",
       "      <td>0.04280</td>\n",
       "      <td>0.04585</td>\n",
       "      <td>0.17930</td>\n",
       "      <td>23.379407</td>\n",
       "      <td>184.960739</td>\n",
       "      <td>0.592716</td>\n",
       "      <td>-0.614588</td>\n",
       "      <td>9.216001</td>\n",
       "      <td>-0.095130</td>\n",
       "      <td>0.143080</td>\n",
       "      <td>-0.670516</td>\n",
       "      <td>-6.524590</td>\n",
       "      <td>0.259679</td>\n",
       "      <td>-1.094512</td>\n",
       "      <td>350</td>\n",
       "      <td>0</td>\n",
       "      <td>0</td>\n",
       "    </tr>\n",
       "    <tr>\n",
       "      <th>1</th>\n",
       "      <td>0.03185</td>\n",
       "      <td>0.04740</td>\n",
       "      <td>0.04570</td>\n",
       "      <td>0.19155</td>\n",
       "      <td>23.379407</td>\n",
       "      <td>184.960739</td>\n",
       "      <td>0.614752</td>\n",
       "      <td>-0.603264</td>\n",
       "      <td>9.216224</td>\n",
       "      <td>-0.062293</td>\n",
       "      <td>0.153530</td>\n",
       "      <td>-0.641452</td>\n",
       "      <td>-5.307001</td>\n",
       "      <td>0.259679</td>\n",
       "      <td>-1.094512</td>\n",
       "      <td>350</td>\n",
       "      <td>0</td>\n",
       "      <td>0</td>\n",
       "    </tr>\n",
       "    <tr>\n",
       "      <th>2</th>\n",
       "      <td>0.03235</td>\n",
       "      <td>0.04550</td>\n",
       "      <td>0.04405</td>\n",
       "      <td>0.19060</td>\n",
       "      <td>23.379407</td>\n",
       "      <td>184.960739</td>\n",
       "      <td>0.624547</td>\n",
       "      <td>-0.614570</td>\n",
       "      <td>9.216447</td>\n",
       "      <td>-0.064769</td>\n",
       "      <td>0.154872</td>\n",
       "      <td>-0.653333</td>\n",
       "      <td>-3.809007</td>\n",
       "      <td>0.250697</td>\n",
       "      <td>-1.113475</td>\n",
       "      <td>350</td>\n",
       "      <td>0</td>\n",
       "      <td>0</td>\n",
       "    </tr>\n",
       "    <tr>\n",
       "      <th>3</th>\n",
       "      <td>0.03245</td>\n",
       "      <td>0.04765</td>\n",
       "      <td>0.04605</td>\n",
       "      <td>0.19140</td>\n",
       "      <td>23.379407</td>\n",
       "      <td>184.960739</td>\n",
       "      <td>0.612129</td>\n",
       "      <td>-0.601339</td>\n",
       "      <td>9.216671</td>\n",
       "      <td>-0.062684</td>\n",
       "      <td>0.152958</td>\n",
       "      <td>-0.639902</td>\n",
       "      <td>-2.799061</td>\n",
       "      <td>0.231079</td>\n",
       "      <td>-1.105437</td>\n",
       "      <td>350</td>\n",
       "      <td>0</td>\n",
       "      <td>0</td>\n",
       "    </tr>\n",
       "    <tr>\n",
       "      <th>4</th>\n",
       "      <td>0.03490</td>\n",
       "      <td>0.04975</td>\n",
       "      <td>0.04610</td>\n",
       "      <td>0.21030</td>\n",
       "      <td>23.379407</td>\n",
       "      <td>184.960739</td>\n",
       "      <td>0.640406</td>\n",
       "      <td>-0.617381</td>\n",
       "      <td>9.216894</td>\n",
       "      <td>-0.015680</td>\n",
       "      <td>0.168010</td>\n",
       "      <td>-0.626992</td>\n",
       "      <td>-2.506445</td>\n",
       "      <td>0.235151</td>\n",
       "      <td>-1.096725</td>\n",
       "      <td>350</td>\n",
       "      <td>0</td>\n",
       "      <td>0</td>\n",
       "    </tr>\n",
       "    <tr>\n",
       "      <th>...</th>\n",
       "      <td>...</td>\n",
       "      <td>...</td>\n",
       "      <td>...</td>\n",
       "      <td>...</td>\n",
       "      <td>...</td>\n",
       "      <td>...</td>\n",
       "      <td>...</td>\n",
       "      <td>...</td>\n",
       "      <td>...</td>\n",
       "      <td>...</td>\n",
       "      <td>...</td>\n",
       "      <td>...</td>\n",
       "      <td>...</td>\n",
       "      <td>...</td>\n",
       "      <td>...</td>\n",
       "      <td>...</td>\n",
       "      <td>...</td>\n",
       "      <td>...</td>\n",
       "    </tr>\n",
       "    <tr>\n",
       "      <th>244987</th>\n",
       "      <td>0.05020</td>\n",
       "      <td>0.06370</td>\n",
       "      <td>0.04350</td>\n",
       "      <td>0.24155</td>\n",
       "      <td>23.379407</td>\n",
       "      <td>184.960739</td>\n",
       "      <td>0.694790</td>\n",
       "      <td>-0.582637</td>\n",
       "      <td>9.539281</td>\n",
       "      <td>0.053538</td>\n",
       "      <td>0.194503</td>\n",
       "      <td>-0.546135</td>\n",
       "      <td>-6.321147</td>\n",
       "      <td>0.210332</td>\n",
       "      <td>-1.125912</td>\n",
       "      <td>354</td>\n",
       "      <td>0</td>\n",
       "      <td>0</td>\n",
       "    </tr>\n",
       "    <tr>\n",
       "      <th>244988</th>\n",
       "      <td>0.05020</td>\n",
       "      <td>0.06465</td>\n",
       "      <td>0.04580</td>\n",
       "      <td>0.25240</td>\n",
       "      <td>23.379407</td>\n",
       "      <td>184.960739</td>\n",
       "      <td>0.692824</td>\n",
       "      <td>-0.592178</td>\n",
       "      <td>9.539547</td>\n",
       "      <td>0.075415</td>\n",
       "      <td>0.199226</td>\n",
       "      <td>-0.540920</td>\n",
       "      <td>-6.852121</td>\n",
       "      <td>0.210332</td>\n",
       "      <td>-1.125912</td>\n",
       "      <td>354</td>\n",
       "      <td>0</td>\n",
       "      <td>0</td>\n",
       "    </tr>\n",
       "    <tr>\n",
       "      <th>244989</th>\n",
       "      <td>0.05145</td>\n",
       "      <td>0.06755</td>\n",
       "      <td>0.04480</td>\n",
       "      <td>0.21965</td>\n",
       "      <td>23.379407</td>\n",
       "      <td>184.960739</td>\n",
       "      <td>0.661184</td>\n",
       "      <td>-0.529596</td>\n",
       "      <td>9.539813</td>\n",
       "      <td>0.006069</td>\n",
       "      <td>0.176827</td>\n",
       "      <td>-0.525215</td>\n",
       "      <td>-7.258355</td>\n",
       "      <td>0.201171</td>\n",
       "      <td>-1.141025</td>\n",
       "      <td>354</td>\n",
       "      <td>0</td>\n",
       "      <td>0</td>\n",
       "    </tr>\n",
       "    <tr>\n",
       "      <th>244990</th>\n",
       "      <td>0.05135</td>\n",
       "      <td>0.07115</td>\n",
       "      <td>0.04815</td>\n",
       "      <td>0.23250</td>\n",
       "      <td>23.379407</td>\n",
       "      <td>184.960739</td>\n",
       "      <td>0.656868</td>\n",
       "      <td>-0.531368</td>\n",
       "      <td>9.540079</td>\n",
       "      <td>0.034483</td>\n",
       "      <td>0.182173</td>\n",
       "      <td>-0.506160</td>\n",
       "      <td>-7.553056</td>\n",
       "      <td>0.195700</td>\n",
       "      <td>-1.142825</td>\n",
       "      <td>354</td>\n",
       "      <td>0</td>\n",
       "      <td>0</td>\n",
       "    </tr>\n",
       "    <tr>\n",
       "      <th>244991</th>\n",
       "      <td>0.05535</td>\n",
       "      <td>0.08145</td>\n",
       "      <td>0.05330</td>\n",
       "      <td>0.28460</td>\n",
       "      <td>23.379407</td>\n",
       "      <td>184.960739</td>\n",
       "      <td>0.684522</td>\n",
       "      <td>-0.554979</td>\n",
       "      <td>9.540346</td>\n",
       "      <td>0.134769</td>\n",
       "      <td>0.211483</td>\n",
       "      <td>-0.454180</td>\n",
       "      <td>-7.731816</td>\n",
       "      <td>0.207363</td>\n",
       "      <td>-1.122562</td>\n",
       "      <td>354</td>\n",
       "      <td>0</td>\n",
       "      <td>0</td>\n",
       "    </tr>\n",
       "  </tbody>\n",
       "</table>\n",
       "<p>244992 rows × 18 columns</p>\n",
       "</div>"
      ],
      "text/plain": [
       "           blue    green      red      nir      slope      aspect      ndvi  \\\n",
       "0       0.02990  0.04280  0.04585  0.17930  23.379407  184.960739  0.592716   \n",
       "1       0.03185  0.04740  0.04570  0.19155  23.379407  184.960739  0.614752   \n",
       "2       0.03235  0.04550  0.04405  0.19060  23.379407  184.960739  0.624547   \n",
       "3       0.03245  0.04765  0.04605  0.19140  23.379407  184.960739  0.612129   \n",
       "4       0.03490  0.04975  0.04610  0.21030  23.379407  184.960739  0.640406   \n",
       "...         ...      ...      ...      ...        ...         ...       ...   \n",
       "244987  0.05020  0.06370  0.04350  0.24155  23.379407  184.960739  0.694790   \n",
       "244988  0.05020  0.06465  0.04580  0.25240  23.379407  184.960739  0.692824   \n",
       "244989  0.05145  0.06755  0.04480  0.21965  23.379407  184.960739  0.661184   \n",
       "244990  0.05135  0.07115  0.04815  0.23250  23.379407  184.960739  0.656868   \n",
       "244991  0.05535  0.08145  0.05330  0.28460  23.379407  184.960739  0.684522   \n",
       "\n",
       "            ndwi    chirps      ndmi      savi     mndwi       twi       wri  \\\n",
       "0      -0.614588  9.216001 -0.095130  0.143080 -0.670516 -6.524590  0.259679   \n",
       "1      -0.603264  9.216224 -0.062293  0.153530 -0.641452 -5.307001  0.259679   \n",
       "2      -0.614570  9.216447 -0.064769  0.154872 -0.653333 -3.809007  0.250697   \n",
       "3      -0.601339  9.216671 -0.062684  0.152958 -0.639902 -2.799061  0.231079   \n",
       "4      -0.617381  9.216894 -0.015680  0.168010 -0.626992 -2.506445  0.235151   \n",
       "...          ...       ...       ...       ...       ...       ...       ...   \n",
       "244987 -0.582637  9.539281  0.053538  0.194503 -0.546135 -6.321147  0.210332   \n",
       "244988 -0.592178  9.539547  0.075415  0.199226 -0.540920 -6.852121  0.210332   \n",
       "244989 -0.529596  9.539813  0.006069  0.176827 -0.525215 -7.258355  0.201171   \n",
       "244990 -0.531368  9.540079  0.034483  0.182173 -0.506160 -7.553056  0.195700   \n",
       "244991 -0.554979  9.540346  0.134769  0.211483 -0.454180 -7.731816  0.207363   \n",
       "\n",
       "            awei  geomorphology  lineament  landslide  \n",
       "0      -1.094512            350          0          0  \n",
       "1      -1.094512            350          0          0  \n",
       "2      -1.113475            350          0          0  \n",
       "3      -1.105437            350          0          0  \n",
       "4      -1.096725            350          0          0  \n",
       "...          ...            ...        ...        ...  \n",
       "244987 -1.125912            354          0          0  \n",
       "244988 -1.125912            354          0          0  \n",
       "244989 -1.141025            354          0          0  \n",
       "244990 -1.142825            354          0          0  \n",
       "244991 -1.122562            354          0          0  \n",
       "\n",
       "[244992 rows x 18 columns]"
      ]
     },
     "execution_count": 20,
     "metadata": {},
     "output_type": "execute_result"
    }
   ],
   "source": [
    "data"
   ]
  },
  {
   "cell_type": "code",
   "execution_count": 21,
   "id": "b46b15e7",
   "metadata": {
    "scrolled": true
   },
   "outputs": [
    {
     "data": {
      "text/plain": [
       "<AxesSubplot:xlabel='blue'>"
      ]
     },
     "execution_count": 21,
     "metadata": {},
     "output_type": "execute_result"
    },
    {
     "data": {
      "image/png": "[encoded data removed]",
      "text/plain": [
       "<Figure size 400x400 with 1 Axes>"
      ]
     },
     "metadata": {},
     "output_type": "display_data"
    }
   ],
   "source": [
    "plt.figure(figsize=(4,4))\n",
    "sns.boxplot(data['blue'])"
   ]
  },
  {
   "cell_type": "code",
   "execution_count": 22,
   "id": "4688630d",
   "metadata": {},
   "outputs": [
    {
     "data": {
      "text/plain": [
       "Text(0.5, 0, 'outliers in green')"
      ]
     },
     "execution_count": 22,
     "metadata": {},
     "output_type": "execute_result"
    },
    {
     "data": {
      "image/png": "[encoded data removed]",
      "text/plain": [
       "<Figure size 400x400 with 1 Axes>"
      ]
     },
     "metadata": {},
     "output_type": "display_data"
    }
   ],
   "source": [
    "plt.figure(figsize=(4,4))\n",
    "sns.boxplot(data['green'])\n",
    "plt.xlabel(\"outliers in green\")"
   ]
  },
  {
   "cell_type": "code",
   "execution_count": 23,
   "id": "33bb84ba",
   "metadata": {
    "scrolled": true
   },
   "outputs": [
    {
     "data": {
      "text/plain": [
       "Text(0.5, 0, 'outliers in red')"
      ]
     },
     "execution_count": 23,
     "metadata": {},
     "output_type": "execute_result"
    },
    {
     "data": {
      "image/png": "[encoded data removed]",
      "text/plain": [
       "<Figure size 300x300 with 1 Axes>"
      ]
     },
     "metadata": {},
     "output_type": "display_data"
    }
   ],
   "source": [
    "plt.figure(figsize=(3,3))\n",
    "sns.boxplot(data['red'])\n",
    "plt.xlabel(\"outliers in red\")"
   ]
  },
  {
   "cell_type": "code",
   "execution_count": 24,
   "id": "a39c3a3e",
   "metadata": {},
   "outputs": [
    {
     "data": {
      "text/plain": [
       "Text(0.5, 0, 'outliers in nir')"
      ]
     },
     "execution_count": 24,
     "metadata": {},
     "output_type": "execute_result"
    },
    {
     "data": {
      "image/png": "[encoded data removed]",
      "text/plain": [
       "<Figure size 400x400 with 1 Axes>"
      ]
     },
     "metadata": {},
     "output_type": "display_data"
    }
   ],
   "source": [
    "plt.figure(figsize=(4,4))\n",
    "sns.boxplot(data['nir'])\n",
    "plt.xlabel(\"outliers in nir\")"
   ]
  },
  {
   "cell_type": "code",
   "execution_count": 25,
   "id": "c07b7733",
   "metadata": {},
   "outputs": [
    {
     "data": {
      "text/plain": [
       "Text(0.5, 0, 'outliers in slope')"
      ]
     },
     "execution_count": 25,
     "metadata": {},
     "output_type": "execute_result"
    },
    {
     "data": {
      "image/png": "[encoded data removed]",
      "text/plain": [
       "<Figure size 400x400 with 1 Axes>"
      ]
     },
     "metadata": {},
     "output_type": "display_data"
    }
   ],
   "source": [
    "plt.figure(figsize=(4,4))\n",
    "sns.boxplot(data['slope'])\n",
    "plt.xlabel('outliers in slope')"
   ]
  },
  {
   "cell_type": "code",
   "execution_count": 26,
   "id": "133e165d",
   "metadata": {},
   "outputs": [
    {
     "data": {
      "text/plain": [
       "<AxesSubplot:xlabel='aspect'>"
      ]
     },
     "execution_count": 26,
     "metadata": {},
     "output_type": "execute_result"
    },
    {
     "data": {
      "image/png": "[encoded data removed]",
      "text/plain": [
       "<Figure size 400x400 with 1 Axes>"
      ]
     },
     "metadata": {},
     "output_type": "display_data"
    }
   ],
   "source": [
    "plt.figure(figsize=(4,4))\n",
    "sns.boxplot(data['aspect'])"
   ]
  },
  {
   "cell_type": "code",
   "execution_count": 27,
   "id": "5028fd33",
   "metadata": {},
   "outputs": [
    {
     "data": {
      "text/plain": [
       "Text(0.5, 0, 'ndvi')"
      ]
     },
     "execution_count": 27,
     "metadata": {},
     "output_type": "execute_result"
    },
    {
     "data": {
      "image/png": "[encoded data removed]",
      "text/plain": [
       "<Figure size 400x400 with 1 Axes>"
      ]
     },
     "metadata": {},
     "output_type": "display_data"
    }
   ],
   "source": [
    "plt.figure(figsize=(4,4))\n",
    "sns.boxplot(data['ndvi'])\n",
    "plt.xlabel('ndvi')"
   ]
  },
  {
   "cell_type": "code",
   "execution_count": 28,
   "id": "245369f1",
   "metadata": {},
   "outputs": [
    {
     "data": {
      "text/plain": [
       "Text(0.5, 0, 'ndwi')"
      ]
     },
     "execution_count": 28,
     "metadata": {},
     "output_type": "execute_result"
    },
    {
     "data": {
      "image/png": "[encoded data removed]",
      "text/plain": [
       "<Figure size 400x400 with 1 Axes>"
      ]
     },
     "metadata": {},
     "output_type": "display_data"
    }
   ],
   "source": [
    "plt.figure(figsize=(4,4))\n",
    "sns.boxplot(data['ndwi'])\n",
    "plt.xlabel(\"ndwi\")"
   ]
  },
  {
   "cell_type": "code",
   "execution_count": 29,
   "id": "3d259612",
   "metadata": {},
   "outputs": [
    {
     "data": {
      "text/plain": [
       "<AxesSubplot:xlabel='chirps'>"
      ]
     },
     "execution_count": 29,
     "metadata": {},
     "output_type": "execute_result"
    },
    {
     "data": {
      "image/png": "[encoded data removed]",
      "text/plain": [
       "<Figure size 400x400 with 1 Axes>"
      ]
     },
     "metadata": {},
     "output_type": "display_data"
    }
   ],
   "source": [
    "plt.figure(figsize=(4,4))\n",
    "sns.boxplot(data['chirps'])"
   ]
  },
  {
   "cell_type": "code",
   "execution_count": 30,
   "id": "f05de554",
   "metadata": {},
   "outputs": [
    {
     "data": {
      "text/plain": [
       "<AxesSubplot:xlabel='ndmi'>"
      ]
     },
     "execution_count": 30,
     "metadata": {},
     "output_type": "execute_result"
    },
    {
     "data": {
      "image/png": "[encoded data removed]",
      "text/plain": [
       "<Figure size 400x400 with 1 Axes>"
      ]
     },
     "metadata": {},
     "output_type": "display_data"
    }
   ],
   "source": [
    "plt.figure(figsize=(4,4))\n",
    "sns.boxplot(data['ndmi'])"
   ]
  },
  {
   "cell_type": "code",
   "execution_count": 31,
   "id": "619d2ac8",
   "metadata": {},
   "outputs": [
    {
     "data": {
      "text/plain": [
       "<AxesSubplot:xlabel='twi'>"
      ]
     },
     "execution_count": 31,
     "metadata": {},
     "output_type": "execute_result"
    },
    {
     "data": {
      "image/png": "[encoded data removed]",
      "text/plain": [
       "<Figure size 400x400 with 1 Axes>"
      ]
     },
     "metadata": {},
     "output_type": "display_data"
    }
   ],
   "source": [
    "plt.figure(figsize=(4,4))\n",
    "sns.boxplot(data['twi'])"
   ]
  },
  {
   "cell_type": "code",
   "execution_count": 32,
   "id": "fe339fa9",
   "metadata": {},
   "outputs": [
    {
     "data": {
      "text/plain": [
       "<AxesSubplot:xlabel='wri'>"
      ]
     },
     "execution_count": 32,
     "metadata": {},
     "output_type": "execute_result"
    },
    {
     "data": {
      "image/png": "[encoded data removed]",
      "text/plain": [
       "<Figure size 400x400 with 1 Axes>"
      ]
     },
     "metadata": {},
     "output_type": "display_data"
    }
   ],
   "source": [
    "plt.figure(figsize=(4,4))\n",
    "sns.boxplot(data['wri'])"
   ]
  },
  {
   "cell_type": "code",
   "execution_count": 33,
   "id": "93eadd51",
   "metadata": {},
   "outputs": [
    {
     "data": {
      "text/plain": [
       "<AxesSubplot:xlabel='awei'>"
      ]
     },
     "execution_count": 33,
     "metadata": {},
     "output_type": "execute_result"
    },
    {
     "data": {
      "image/png": "[encoded data removed]",
      "text/plain": [
       "<Figure size 400x400 with 1 Axes>"
      ]
     },
     "metadata": {},
     "output_type": "display_data"
    }
   ],
   "source": [
    "plt.figure(figsize=(4,4))\n",
    "sns.boxplot(data['awei'])"
   ]
  },
  {
   "cell_type": "code",
   "execution_count": 34,
   "id": "c05e0321",
   "metadata": {},
   "outputs": [
    {
     "data": {
      "text/plain": [
       "<AxesSubplot:xlabel='geomorphology'>"
      ]
     },
     "execution_count": 34,
     "metadata": {},
     "output_type": "execute_result"
    },
    {
     "data": {
      "image/png": "[encoded data removed]",
      "text/plain": [
       "<Figure size 400x400 with 1 Axes>"
      ]
     },
     "metadata": {},
     "output_type": "display_data"
    }
   ],
   "source": [
    "plt.figure(figsize=(4,4))\n",
    "sns.boxplot(data['geomorphology'])"
   ]
  },
  {
   "cell_type": "code",
   "execution_count": 35,
   "id": "5ba2fb65",
   "metadata": {},
   "outputs": [],
   "source": [
    "def remove_outliers(data_name,feature):\n",
    "    Q1=np.percentile(feature , 25 , interpolation= 'midpoint')\n",
    "    Q2=np.percentile(feature , 50 , interpolation= 'midpoint')\n",
    "    Q3=np.percentile(feature , 75 , interpolation= 'midpoint')\n",
    "    IQR=Q3-Q1\n",
    "    lower_range=Q1 - 1.5*IQR\n",
    "    upper_range=Q3 + 1.5*IQR\n",
    "    data_name.drop(data_name.loc[feature<lower_range].index,inplace=True)\n",
    "    data_name.drop(data_name.loc[feature>upper_range].index,inplace=True)"
   ]
  },
  {
   "cell_type": "code",
   "execution_count": 36,
   "id": "ba81f294",
   "metadata": {},
   "outputs": [],
   "source": [
    "remove_outliers(data,data['red'])\n",
    "remove_outliers(data,data['blue'])\n",
    "remove_outliers(data,data['green'])\n",
    "remove_outliers(data,data['slope'])\n",
    "remove_outliers(data,data['aspect'])\n",
    "remove_outliers(data,data['ndvi'])\n",
    "remove_outliers(data,data['ndwi'])\n",
    "remove_outliers(data,data['chirps'])\n",
    "remove_outliers(data,data['ndmi'])\n",
    "remove_outliers(data,data['twi'])\n",
    "remove_outliers(data,data['wri'])\n",
    "remove_outliers(data,data['geomorphology'])\n",
    "remove_outliers(data,data['lineament'])\n",
    "remove_outliers(data,data['awei'])\n",
    "remove_outliers(data,data['nir'])"
   ]
  },
  {
   "cell_type": "code",
   "execution_count": 37,
   "id": "1a7ee059",
   "metadata": {},
   "outputs": [
    {
     "data": {
      "text/plain": [
       "<AxesSubplot:xlabel='blue'>"
      ]
     },
     "execution_count": 37,
     "metadata": {},
     "output_type": "execute_result"
    },
    {
     "data": {
      "image/png": "[encoded data removed]",
      "text/plain": [
       "<Figure size 400x400 with 1 Axes>"
      ]
     },
     "metadata": {},
     "output_type": "display_data"
    }
   ],
   "source": [
    "plt.figure(figsize=(4,4))\n",
    "sns.boxplot(data['blue'])"
   ]
  },
  {
   "cell_type": "code",
   "execution_count": 38,
   "id": "394e514b",
   "metadata": {},
   "outputs": [
    {
     "data": {
      "text/plain": [
       "<AxesSubplot:xlabel='green'>"
      ]
     },
     "execution_count": 38,
     "metadata": {},
     "output_type": "execute_result"
    },
    {
     "data": {
      "image/png": "[encoded data removed]",
      "text/plain": [
       "<Figure size 400x400 with 1 Axes>"
      ]
     },
     "metadata": {},
     "output_type": "display_data"
    }
   ],
   "source": [
    "plt.figure(figsize=(4,4))\n",
    "sns.boxplot(data['green'])"
   ]
  },
  {
   "cell_type": "code",
   "execution_count": 39,
   "id": "fc565b3c",
   "metadata": {},
   "outputs": [
    {
     "data": {
      "text/plain": [
       "<AxesSubplot:xlabel='red'>"
      ]
     },
     "execution_count": 39,
     "metadata": {},
     "output_type": "execute_result"
    },
    {
     "data": {
      "image/png": "[encoded data removed]",
      "text/plain": [
       "<Figure size 400x400 with 1 Axes>"
      ]
     },
     "metadata": {},
     "output_type": "display_data"
    }
   ],
   "source": [
    "plt.figure(figsize=(4,4))\n",
    "sns.boxplot(data['red'])"
   ]
  },
  {
   "cell_type": "code",
   "execution_count": 40,
   "id": "93258483",
   "metadata": {},
   "outputs": [
    {
     "data": {
      "text/plain": [
       "<AxesSubplot:xlabel='nir'>"
      ]
     },
     "execution_count": 40,
     "metadata": {},
     "output_type": "execute_result"
    },
    {
     "data": {
      "image/png": "[encoded data removed]",
      "text/plain": [
       "<Figure size 400x400 with 1 Axes>"
      ]
     },
     "metadata": {},
     "output_type": "display_data"
    }
   ],
   "source": [
    "plt.figure(figsize=(4,4))\n",
    "sns.boxplot(data['nir'])"
   ]
  },
  {
   "cell_type": "code",
   "execution_count": 41,
   "id": "757eb4a0",
   "metadata": {},
   "outputs": [
    {
     "data": {
      "text/plain": [
       "<AxesSubplot:xlabel='slope'>"
      ]
     },
     "execution_count": 41,
     "metadata": {},
     "output_type": "execute_result"
    },
    {
     "data": {
      "image/png": "[encoded data removed]",
      "text/plain": [
       "<Figure size 400x400 with 1 Axes>"
      ]
     },
     "metadata": {},
     "output_type": "display_data"
    }
   ],
   "source": [
    "plt.figure(figsize=(4,4))\n",
    "sns.boxplot(data['slope'])"
   ]
  },
  {
   "cell_type": "code",
   "execution_count": 42,
   "id": "fec670f0",
   "metadata": {},
   "outputs": [
    {
     "data": {
      "text/plain": [
       "<AxesSubplot:xlabel='aspect'>"
      ]
     },
     "execution_count": 42,
     "metadata": {},
     "output_type": "execute_result"
    },
    {
     "data": {
      "image/png": "[encoded data removed]",
      "text/plain": [
       "<Figure size 400x400 with 1 Axes>"
      ]
     },
     "metadata": {},
     "output_type": "display_data"
    }
   ],
   "source": [
    "plt.figure(figsize=(4,4))\n",
    "sns.boxplot(data['aspect'])"
   ]
  },
  {
   "cell_type": "code",
   "execution_count": 43,
   "id": "a2bc18ab",
   "metadata": {},
   "outputs": [
    {
     "data": {
      "text/plain": [
       "<AxesSubplot:xlabel='ndvi'>"
      ]
     },
     "execution_count": 43,
     "metadata": {},
     "output_type": "execute_result"
    },
    {
     "data": {
      "image/png": "[encoded data removed]",
      "text/plain": [
       "<Figure size 400x400 with 1 Axes>"
      ]
     },
     "metadata": {},
     "output_type": "display_data"
    }
   ],
   "source": [
    "plt.figure(figsize=(4,4))\n",
    "sns.boxplot(data['ndvi'])"
   ]
  },
  {
   "cell_type": "code",
   "execution_count": 44,
   "id": "bba90c7c",
   "metadata": {},
   "outputs": [
    {
     "data": {
      "text/plain": [
       "<AxesSubplot:xlabel='ndwi'>"
      ]
     },
     "execution_count": 44,
     "metadata": {},
     "output_type": "execute_result"
    },
    {
     "data": {
      "image/png": "[encoded data removed]",
      "text/plain": [
       "<Figure size 400x400 with 1 Axes>"
      ]
     },
     "metadata": {},
     "output_type": "display_data"
    }
   ],
   "source": [
    "plt.figure(figsize=(4,4))\n",
    "sns.boxplot(data['ndwi'])"
   ]
  },
  {
   "cell_type": "code",
   "execution_count": 45,
   "id": "d77e4a2e",
   "metadata": {},
   "outputs": [
    {
     "data": {
      "text/plain": [
       "<AxesSubplot:xlabel='chirps'>"
      ]
     },
     "execution_count": 45,
     "metadata": {},
     "output_type": "execute_result"
    },
    {
     "data": {
      "image/png": "[encoded data removed]",
      "text/plain": [
       "<Figure size 400x400 with 1 Axes>"
      ]
     },
     "metadata": {},
     "output_type": "display_data"
    }
   ],
   "source": [
    "plt.figure(figsize=(4,4))\n",
    "sns.boxplot(data['chirps'])"
   ]
  },
  {
   "cell_type": "code",
   "execution_count": 46,
   "id": "87134627",
   "metadata": {},
   "outputs": [
    {
     "data": {
      "text/plain": [
       "<AxesSubplot:xlabel='ndmi'>"
      ]
     },
     "execution_count": 46,
     "metadata": {},
     "output_type": "execute_result"
    },
    {
     "data": {
      "image/png": "[encoded data removed]",
      "text/plain": [
       "<Figure size 400x400 with 1 Axes>"
      ]
     },
     "metadata": {},
     "output_type": "display_data"
    }
   ],
   "source": [
    "plt.figure(figsize=(4,4))\n",
    "sns.boxplot(data['ndmi'])"
   ]
  },
  {
   "cell_type": "code",
   "execution_count": 47,
   "id": "aebc9079",
   "metadata": {},
   "outputs": [
    {
     "data": {
      "text/plain": [
       "<AxesSubplot:xlabel='twi'>"
      ]
     },
     "execution_count": 47,
     "metadata": {},
     "output_type": "execute_result"
    },
    {
     "data": {
      "image/png": "[encoded data removed]",
      "text/plain": [
       "<Figure size 400x400 with 1 Axes>"
      ]
     },
     "metadata": {},
     "output_type": "display_data"
    }
   ],
   "source": [
    "plt.figure(figsize=(4,4))\n",
    "sns.boxplot(data['twi'])"
   ]
  },
  {
   "cell_type": "code",
   "execution_count": 48,
   "id": "66aab6f0",
   "metadata": {},
   "outputs": [
    {
     "data": {
      "text/plain": [
       "<AxesSubplot:xlabel='wri'>"
      ]
     },
     "execution_count": 48,
     "metadata": {},
     "output_type": "execute_result"
    },
    {
     "data": {
      "image/png": "[encoded data removed]",
      "text/plain": [
       "<Figure size 400x400 with 1 Axes>"
      ]
     },
     "metadata": {},
     "output_type": "display_data"
    }
   ],
   "source": [
    "plt.figure(figsize=(4,4))\n",
    "sns.boxplot(data['wri'])"
   ]
  },
  {
   "cell_type": "code",
   "execution_count": 49,
   "id": "57896976",
   "metadata": {},
   "outputs": [
    {
     "data": {
      "text/plain": [
       "<AxesSubplot:xlabel='awei'>"
      ]
     },
     "execution_count": 49,
     "metadata": {},
     "output_type": "execute_result"
    },
    {
     "data": {
      "image/png": "[encoded data removed]",
      "text/plain": [
       "<Figure size 400x400 with 1 Axes>"
      ]
     },
     "metadata": {},
     "output_type": "display_data"
    }
   ],
   "source": [
    "plt.figure(figsize=(4,4))\n",
    "sns.boxplot(data['awei'])"
   ]
  },
  {
   "cell_type": "code",
   "execution_count": 50,
   "id": "3a64d563",
   "metadata": {},
   "outputs": [
    {
     "data": {
      "text/plain": [
       "<AxesSubplot:xlabel='geomorphology'>"
      ]
     },
     "execution_count": 50,
     "metadata": {},
     "output_type": "execute_result"
    },
    {
     "data": {
      "image/png": "[encoded data removed]",
      "text/plain": [
       "<Figure size 400x400 with 1 Axes>"
      ]
     },
     "metadata": {},
     "output_type": "display_data"
    }
   ],
   "source": [
    "plt.figure(figsize=(4,4))\n",
    "sns.boxplot(data['geomorphology'])"
   ]
  },
  {
   "cell_type": "code",
   "execution_count": 51,
   "id": "f412e46e",
   "metadata": {},
   "outputs": [],
   "source": [
    "x_train,x_test,y_train,y_test=train_test_split(x,y,random_state=101,test_size=0.2)"
   ]
  },
  {
   "cell_type": "code",
   "execution_count": 52,
   "id": "3302b978",
   "metadata": {},
   "outputs": [],
   "source": [
    "from sklearn.preprocessing import StandardScaler\n",
    "scaler=StandardScaler()"
   ]
  },
  {
   "cell_type": "code",
   "execution_count": 53,
   "id": "b9fc313e",
   "metadata": {},
   "outputs": [],
   "source": [
    "x_train=scaler.fit_transform(x_train)\n",
    "x_test=scaler.fit_transform(x_test)"
   ]
  },
  {
   "cell_type": "code",
   "execution_count": 54,
   "id": "5e09266f",
   "metadata": {},
   "outputs": [
    {
     "name": "stdout",
     "output_type": "stream",
     "text": [
      "train accuracy   0.6531124497991968\n",
      "test accuracy :  0.6531124497991968\n",
      "confusion matrix : \n",
      " [[1170  855]\n",
      " [ 527 1432]]\n",
      "\t\t**classification_report** \n",
      "               precision    recall  f1-score   support\n",
      "\n",
      "           0       0.69      0.58      0.63      2025\n",
      "           1       0.63      0.73      0.67      1959\n",
      "\n",
      "    accuracy                           0.65      3984\n",
      "   macro avg       0.66      0.65      0.65      3984\n",
      "weighted avg       0.66      0.65      0.65      3984\n",
      "\n"
     ]
    }
   ],
   "source": [
    "from sklearn.linear_model import LogisticRegression\n",
    "logistic_model=LogisticRegression()\n",
    "\n",
    "logistic_model.fit(x_train,y_train)\n",
    "\n",
    "logistic_model.score(x_train,y_train)\n",
    "\n",
    "logistic_model.score(x_test,y_test)\n",
    "\n",
    "pred=logistic_model.predict(x_test)\n",
    "\n",
    "accuracies.append(accuracy_score(y_test,pred))\n",
    "\n",
    "print('train accuracy  ',logistic_model.score(x_test,y_test))\n",
    "print('test accuracy : ',accuracy_score(y_test,pred))\n",
    "print('confusion matrix : \\n',confusion_matrix(y_test,pred))\n",
    "print('\\t\\t**classification_report** \\n',classification_report(y_test,pred))"
   ]
  },
  {
   "cell_type": "code",
   "execution_count": 55,
   "id": "89535e44",
   "metadata": {},
   "outputs": [
    {
     "name": "stdout",
     "output_type": "stream",
     "text": [
      "train accuracy   0.615210843373494\n",
      "test accuracy :  0.615210843373494\n",
      "confusion matrix : \n",
      " [[ 821 1204]\n",
      " [ 329 1630]]\n",
      "\t\t**classification_report** \n",
      "               precision    recall  f1-score   support\n",
      "\n",
      "           0       0.71      0.41      0.52      2025\n",
      "           1       0.58      0.83      0.68      1959\n",
      "\n",
      "    accuracy                           0.62      3984\n",
      "   macro avg       0.64      0.62      0.60      3984\n",
      "weighted avg       0.65      0.62      0.60      3984\n",
      "\n"
     ]
    }
   ],
   "source": [
    "from sklearn.naive_bayes import GaussianNB\n",
    "model_naive=GaussianNB()\n",
    "\n",
    "model_naive.fit(x_train,y_train)\n",
    "\n",
    "model_naive.score(x_test,y_test)\n",
    "\n",
    "pred=model_naive.predict(x_test)\n",
    "\n",
    "accuracies.append(accuracy_score(y_test,pred))\n",
    "\n",
    "print('train accuracy  ',model_naive.score(x_test,y_test))\n",
    "print('test accuracy : ',accuracy_score(y_test,pred))\n",
    "print('confusion matrix : \\n',confusion_matrix(y_test,pred))\n",
    "print('\\t\\t**classification_report** \\n',classification_report(y_test,pred))"
   ]
  },
  {
   "cell_type": "code",
   "execution_count": 56,
   "id": "e732c8dc",
   "metadata": {},
   "outputs": [
    {
     "name": "stdout",
     "output_type": "stream",
     "text": [
      "train accuracy   0.8908132530120482\n",
      "test accuracy :  0.8908132530120482\n",
      "confusion matrix : \n",
      " [[1691  334]\n",
      " [ 101 1858]]\n",
      "\t\t**classification_report** \n",
      "               precision    recall  f1-score   support\n",
      "\n",
      "           0       0.94      0.84      0.89      2025\n",
      "           1       0.85      0.95      0.90      1959\n",
      "\n",
      "    accuracy                           0.89      3984\n",
      "   macro avg       0.90      0.89      0.89      3984\n",
      "weighted avg       0.90      0.89      0.89      3984\n",
      "\n"
     ]
    }
   ],
   "source": [
    "from sklearn.neighbors import KNeighborsClassifier\n",
    "model_knn=KNeighborsClassifier(n_neighbors=1)\n",
    "\n",
    "\n",
    "model_knn.fit(x_train,y_train)\n",
    "\n",
    "pred=model_knn.predict(x_test)\n",
    "\n",
    "accuracies.append(accuracy_score(y_test,pred))\n",
    "\n",
    "print('train accuracy  ',model_knn.score(x_test,y_test))\n",
    "print('test accuracy : ',accuracy_score(y_test,pred))\n",
    "print('confusion matrix : \\n',confusion_matrix(y_test,pred))\n",
    "print('\\t\\t**classification_report** \\n',classification_report(y_test,pred))"
   ]
  },
  {
   "cell_type": "code",
   "execution_count": 57,
   "id": "0466d224",
   "metadata": {},
   "outputs": [
    {
     "name": "stdout",
     "output_type": "stream",
     "text": [
      "train accuracy 0.9014809236947792\n",
      "Accuracy:  0.873995983935743\n",
      "\t\t**classification_report** \n",
      "               precision    recall  f1-score   support\n",
      "\n",
      "           0       0.93      0.81      0.87      2025\n",
      "           1       0.83      0.94      0.88      1959\n",
      "\n",
      "    accuracy                           0.87      3984\n",
      "   macro avg       0.88      0.88      0.87      3984\n",
      "weighted avg       0.88      0.87      0.87      3984\n",
      "\n"
     ]
    }
   ],
   "source": [
    "from sklearn.ensemble import RandomForestClassifier\n",
    "clf_rfc = RandomForestClassifier(max_depth= 9, min_samples_leaf= 1, min_samples_split= 2, n_estimators= 150)\n",
    "\n",
    "clf_rfc.fit(x_train, y_train)\n",
    "\n",
    "y_pred =clf_rfc.predict(x_test)\n",
    "\n",
    "accuracy = accuracy_score(y_test, y_pred)\n",
    "\n",
    "accuracies.append(accuracy_score(y_test,pred))\n",
    "\n",
    "print(\"train accuracy\",clf_rfc.score(x_train,y_train))\n",
    "print(\"Accuracy: \", accuracy)\n",
    "print('\\t\\t**classification_report** \\n',classification_report(y_test,y_pred))"
   ]
  },
  {
   "cell_type": "code",
   "execution_count": 58,
   "id": "9e666fb9",
   "metadata": {},
   "outputs": [
    {
     "name": "stdout",
     "output_type": "stream",
     "text": [
      "train accuracy 0.8778865461847389\n",
      "Accuracy:  0.8448795180722891\n",
      "\t\t**classification_report** \n",
      "               precision    recall  f1-score   support\n",
      "\n",
      "           0       0.88      0.80      0.84      2025\n",
      "           1       0.81      0.89      0.85      1959\n",
      "\n",
      "    accuracy                           0.84      3984\n",
      "   macro avg       0.85      0.85      0.84      3984\n",
      "weighted avg       0.85      0.84      0.84      3984\n",
      "\n"
     ]
    }
   ],
   "source": [
    "from sklearn.tree import DecisionTreeClassifier\n",
    "\n",
    "clf_dc = DecisionTreeClassifier(max_depth= 9, min_samples_leaf= 1, min_samples_split= 10)\n",
    "\n",
    "clf_dc.fit(x_train, y_train)\n",
    "\n",
    "y_pred = clf_dc.predict(x_test)\n",
    "\n",
    "accuracy = accuracy_score(y_test, y_pred)\n",
    "\n",
    "accuracies.append(accuracy_score(y_test,pred))\n",
    "\n",
    "print(\"train accuracy\",clf_dc.score(x_train,y_train))\n",
    "print(\"Accuracy: \", accuracy)\n",
    "print('\\t\\t**classification_report** \\n',classification_report(y_test,y_pred))"
   ]
  },
  {
   "cell_type": "code",
   "execution_count": 59,
   "id": "397322ec",
   "metadata": {},
   "outputs": [
    {
     "name": "stdout",
     "output_type": "stream",
     "text": [
      "train accuracy 0.8852284136546185\n",
      "Accuracy:  0.8699799196787149\n",
      "\t\t**classification_report** \n",
      "               precision    recall  f1-score   support\n",
      "\n",
      "           0       0.93      0.81      0.86      2025\n",
      "           1       0.83      0.93      0.88      1959\n",
      "\n",
      "    accuracy                           0.87      3984\n",
      "   macro avg       0.88      0.87      0.87      3984\n",
      "weighted avg       0.88      0.87      0.87      3984\n",
      "\n"
     ]
    }
   ],
   "source": [
    "from sklearn.svm import SVC\n",
    "\n",
    "clf = SVC(kernel='rbf',gamma='scale',C=10)\n",
    "\n",
    "clf.fit(x_train, y_train)\n",
    "\n",
    "y_pred = clf.predict(x_test)\n",
    "\n",
    "accuracy = accuracy_score(y_test, y_pred)\n",
    "\n",
    "accuracies.append(accuracy_score(y_test,pred))\n",
    "\n",
    "print(\"train accuracy\",clf.score(x_train,y_train))\n",
    "print(\"Accuracy: \", accuracy)\n",
    "print('\\t\\t**classification_report** \\n',classification_report(y_test,y_pred))"
   ]
  },
  {
   "cell_type": "code",
   "execution_count": 63,
   "id": "6a907162",
   "metadata": {},
   "outputs": [],
   "source": [
    "import pickle\n",
    "pickle.dump(model_knn,open('knn.pkl','wb'))\n",
    "pickle.dump(logistic_model,open('logistic.pkl','wb'))\n",
    "pickle.dump(model_naive,open('naive.pkl','wb'))\n",
    "pickle.dump(clf,open('svc.pkl','wb'))\n",
    "pickle.dump(clf_rfc,open('random_forest.pkl','wb'))\n",
    "pickle.dump(clf_dc,open('Decision_tree.pkl','wb'))"
   ]
  },
  {
   "cell_type": "code",
   "execution_count": 64,
   "id": "a3f1f2b3",
   "metadata": {},
   "outputs": [
    {
     "name": "stdout",
     "output_type": "stream",
     "text": [
      "Measurements: [0.0, 0.0, 0.0, 0.0, 0.0, 0.0, 0.0, 0.0, 0.0, 0.0, 0.0, 0.0, 0.0, 0.0, 0.0, 0.0, 0.0]\n"
     ]
    },
    {
     "data": {
      "text/plain": [
       "'OK'"
      ]
     },
     "execution_count": 64,
     "metadata": {},
     "output_type": "execute_result"
    }
   ],
   "source": [
    "import easygui\n",
    "import pickle\n",
    "import numpy as np\n",
    "def get_measurements():\n",
    "    measurements = []\n",
    "    msg = \"Enter the measurement values:\"\n",
    "    title = \"Measurement Input\"\n",
    "    field_names = ['blue','green' ,'red' ,'nir ','slope ','aspect','ndvi ','ndwi ','chirps ','ndmi' ,'savi ','mndwi' ,'twi ','wri' ,'awei','geomorphology','lineament']\n",
    "    field_values = [\"\"] * 17\n",
    "    field_values = easygui.multenterbox(msg, title, field_names, field_values)\n",
    "\n",
    "    while True:\n",
    "        if field_values is None:  # User clicked cancel\n",
    "            return None\n",
    "\n",
    "        errors = validate_measurements(field_values)\n",
    "        if not errors:\n",
    "            break\n",
    "        else:\n",
    "            easygui.msgbox('\\n'.join(errors), 'Invalid Measurements')\n",
    "            field_values = easygui.multenterbox(msg, title, field_names, field_values)\n",
    "\n",
    "    measurements = [float(value) for value in field_values]\n",
    "    return measurements\n",
    "\n",
    "def validate_measurements(values):\n",
    "    errors = []\n",
    "    for value in values:\n",
    "        if not value.strip():  # Empty value\n",
    "            errors.append(\"Please enter a value for all measurements.\")\n",
    "        else:\n",
    "            try:\n",
    "                float(value)\n",
    "            except ValueError:\n",
    "                errors.append(\"Invalid measurement value: \" + value + \". Please enter a number.\")\n",
    "\n",
    "    return errors\n",
    "\n",
    "# Usage\n",
    "measurements = get_measurements()\n",
    "if measurements is not None:\n",
    "    print(\"Measurements:\", measurements)\n",
    "else:\n",
    "    print(\"Measurement input was canceled.\")\n",
    "pickle_lr=pickle.load(open('knn.pkl','rb'))\n",
    "pickle_naive=pickle.load(open('logistic.pkl','rb'))\n",
    "pickle_knn=pickle.load(open('naive.pkl','rb'))\n",
    "pickle_svc=pickle.load(open('svc.pkl','rb'))\n",
    "pickle_dtc=pickle.load(open('decision_tree.pkl','rb'))\n",
    "pickle_rfc=pickle.load(open('random_forest.pkl','rb'))\n",
    "    \n",
    "measurements=np.array(measurements)\n",
    "measurements=measurements.reshape(1,-1)\n",
    "\n",
    "pickle_lr=pickle.load(open('knn.pkl','rb'))\n",
    "pickle_naive=pickle.load(open('logistic.pkl','rb'))\n",
    "pickle_knn=pickle.load(open('naive.pkl','rb'))\n",
    "pickle_svc=pickle.load(open('svc.pkl','rb'))\n",
    "pickle_dtc=pickle.load(open('decision_tree.pkl','rb'))\n",
    "pickle_rfc=pickle.load(open('random_forest.pkl','rb'))\n",
    "\n",
    "\n",
    "a=pickle_lr.predict(measurements)\n",
    "b=pickle_naive.predict(measurements)\n",
    "c=pickle_knn.predict(measurements)\n",
    "d=pickle_dtc.predict(measurements)\n",
    "e=pickle_rfc.predict(measurements)\n",
    "f=pickle_svc.predict(measurements)\n",
    "\n",
    "count=int(a+b+c+d+e+f)\n",
    "counter_count=int(6-count)\n",
    "\n",
    "def value_encode(x):\n",
    "    if x==0:\n",
    "        x='not occurre'\n",
    "        return x\n",
    "    else :\n",
    "        x='occurre'\n",
    "        return x\n",
    "\n",
    "a=value_encode(a)\n",
    "b=value_encode(b)\n",
    "c=value_encode(c)\n",
    "d=value_encode(d)\n",
    "e=value_encode(e)\n",
    "f=value_encode(f)\n",
    "        \n",
    "text = f\"KNN algorithm predicts - landslide will {c}\\n\\nrandom forest algorithm predicts - landslide will {e}\\n\\nSVM algorithm predicts - landslide will {f}\\n\\ndecision tree algorithm predicts - landslide will {d}\\n\\nLogistic Regression algorithm predicts - landslide will {a}\\n\\nNaive Bayes algorithm predicts - landslide will {b}\\n\\n\\n\\n\\nno of algorithm predicted that landslide will occure\\t=\\t{count}\\nno of algrithm predicted that landslide will not occure\\t=\\t{counter_count}\"\n",
    "\n",
    "# Display the text in a dialog box\n",
    "easygui.msgbox(text, title=\"outputs\",ok_button=\"OK\")\n",
    "\n",
    "\n",
    "# End of the program\n",
    "\n"
   ]
  },
  {
   "cell_type": "code",
   "execution_count": null,
   "id": "e33d54f2",
   "metadata": {},
   "outputs": [],
   "source": []
  },
  {
   "cell_type": "code",
   "execution_count": null,
   "id": "e732c236",
   "metadata": {},
   "outputs": [],
   "source": []
  },
  {
   "cell_type": "code",
   "execution_count": null,
   "id": "03481f7e",
   "metadata": {},
   "outputs": [],
   "source": []
  },
  {
   "cell_type": "code",
   "execution_count": null,
   "id": "a4a3f1b4",
   "metadata": {},
   "outputs": [],
   "source": []
  },
  {
   "cell_type": "code",
   "execution_count": null,
   "id": "2d814d5b",
   "metadata": {},
   "outputs": [],
   "source": []
  },
  {
   "cell_type": "code",
   "execution_count": null,
   "id": "f60abcb6",
   "metadata": {},
   "outputs": [],
   "source": []
  }
 ],
 "metadata": {
  "kernelspec": {
   "display_name": "Python 3 (ipykernel)",
   "language": "python",
   "name": "python3"
  },
  "language_info": {
   "codemirror_mode": {
    "name": "ipython",
    "version": 3
   },
   "file_extension": ".py",
   "mimetype": "text/x-python",
   "name": "python",
   "nbconvert_exporter": "python",
   "pygments_lexer": "ipython3",
   "version": "3.9.13"
  }
 },
 "nbformat": 4,
 "nbformat_minor": 5
}
